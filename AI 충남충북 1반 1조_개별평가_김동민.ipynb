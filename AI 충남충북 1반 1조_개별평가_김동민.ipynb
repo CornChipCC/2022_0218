{
 "cells": [
  {
   "cell_type": "markdown",
   "metadata": {
    "id": "mTt7qGUTCcFs"
   },
   "source": [
    "# 과제2. [평가]Mobile 고객 이탈 분석"
   ]
  },
  {
   "cell_type": "markdown",
   "metadata": {
    "id": "cdQaCT5I0IL_"
   },
   "source": [
    "* 여러분은 OO 통신화사 데이터분석가 입니다.\n",
    "* 회사는 약정기간이 끝난 고객이 번호이동(이탈)해 가는 문제를 해결하고자 합니다.\n",
    "* 그래서 여러분에게, 어떤 고객이 번호이동(이탈)해 가는지 데이터분석을 의뢰하였습니다.\n",
    "* 고객 이탈여부(CHURN)에 영향을 주는 요인을 찾아 봅시다."
   ]
  },
  {
   "cell_type": "markdown",
   "metadata": {
    "id": "0wuYJKZHjA3d"
   },
   "source": [
    "![](https://d18lkz4dllo6v2.cloudfront.net/cumulus_uploads/entry/23964/mobile%20phones.png)"
   ]
  },
  {
   "cell_type": "markdown",
   "metadata": {
    "id": "AHmt88Q5EVsj"
   },
   "source": [
    "## 0.환경설정"
   ]
  },
  {
   "cell_type": "markdown",
   "metadata": {
    "id": "KnzVh2LmkLDU"
   },
   "source": [
    "### 1) 라이브러리 로딩"
   ]
  },
  {
   "cell_type": "code",
   "execution_count": 2,
   "metadata": {
    "id": "3rsQerEaELwI"
   },
   "outputs": [],
   "source": [
    "import pandas as pd\n",
    "import numpy as np\n",
    "import matplotlib.pyplot as plt\n",
    "import seaborn as sns\n",
    "\n",
    "from statsmodels.graphics.mosaicplot import mosaic\n",
    "from scipy import stats as spst\n",
    "import statsmodels.api as sm"
   ]
  },
  {
   "cell_type": "markdown",
   "metadata": {
    "id": "5Qh5KYWokO_N"
   },
   "source": [
    "### 2) 데이터 로딩"
   ]
  },
  {
   "cell_type": "code",
   "execution_count": 3,
   "metadata": {
    "id": "lM3HN6OwEL3d"
   },
   "outputs": [
    {
     "data": {
      "text/html": [
       "<div>\n",
       "<style scoped>\n",
       "    .dataframe tbody tr th:only-of-type {\n",
       "        vertical-align: middle;\n",
       "    }\n",
       "\n",
       "    .dataframe tbody tr th {\n",
       "        vertical-align: top;\n",
       "    }\n",
       "\n",
       "    .dataframe thead th {\n",
       "        text-align: right;\n",
       "    }\n",
       "</style>\n",
       "<table border=\"1\" class=\"dataframe\">\n",
       "  <thead>\n",
       "    <tr style=\"text-align: right;\">\n",
       "      <th></th>\n",
       "      <th>COLLEGE</th>\n",
       "      <th>INCOME</th>\n",
       "      <th>OVERAGE</th>\n",
       "      <th>LEFTOVER</th>\n",
       "      <th>HOUSE</th>\n",
       "      <th>HANDSET_PRICE</th>\n",
       "      <th>AVERAGE_CALL_DURATION</th>\n",
       "      <th>REPORTED_SATISFACTION</th>\n",
       "      <th>CONSIDERING_CHANGE_OF_PLAN</th>\n",
       "      <th>CHURN</th>\n",
       "    </tr>\n",
       "  </thead>\n",
       "  <tbody>\n",
       "    <tr>\n",
       "      <th>0</th>\n",
       "      <td>1</td>\n",
       "      <td>47711</td>\n",
       "      <td>183</td>\n",
       "      <td>17</td>\n",
       "      <td>730589.0</td>\n",
       "      <td>192</td>\n",
       "      <td>5</td>\n",
       "      <td>unsat</td>\n",
       "      <td>considering</td>\n",
       "      <td>0</td>\n",
       "    </tr>\n",
       "    <tr>\n",
       "      <th>1</th>\n",
       "      <td>0</td>\n",
       "      <td>74132</td>\n",
       "      <td>191</td>\n",
       "      <td>43</td>\n",
       "      <td>535092.0</td>\n",
       "      <td>349</td>\n",
       "      <td>2</td>\n",
       "      <td>unsat</td>\n",
       "      <td>no</td>\n",
       "      <td>1</td>\n",
       "    </tr>\n",
       "    <tr>\n",
       "      <th>2</th>\n",
       "      <td>1</td>\n",
       "      <td>150419</td>\n",
       "      <td>0</td>\n",
       "      <td>14</td>\n",
       "      <td>204004.0</td>\n",
       "      <td>682</td>\n",
       "      <td>6</td>\n",
       "      <td>unsat</td>\n",
       "      <td>considering</td>\n",
       "      <td>0</td>\n",
       "    </tr>\n",
       "    <tr>\n",
       "      <th>3</th>\n",
       "      <td>0</td>\n",
       "      <td>159567</td>\n",
       "      <td>0</td>\n",
       "      <td>58</td>\n",
       "      <td>281969.0</td>\n",
       "      <td>634</td>\n",
       "      <td>1</td>\n",
       "      <td>very_unsat</td>\n",
       "      <td>never_thought</td>\n",
       "      <td>0</td>\n",
       "    </tr>\n",
       "    <tr>\n",
       "      <th>4</th>\n",
       "      <td>1</td>\n",
       "      <td>23392</td>\n",
       "      <td>0</td>\n",
       "      <td>0</td>\n",
       "      <td>216707.0</td>\n",
       "      <td>233</td>\n",
       "      <td>15</td>\n",
       "      <td>unsat</td>\n",
       "      <td>no</td>\n",
       "      <td>1</td>\n",
       "    </tr>\n",
       "  </tbody>\n",
       "</table>\n",
       "</div>"
      ],
      "text/plain": [
       "   COLLEGE  INCOME  OVERAGE  LEFTOVER     HOUSE  HANDSET_PRICE  \\\n",
       "0        1   47711      183        17  730589.0            192   \n",
       "1        0   74132      191        43  535092.0            349   \n",
       "2        1  150419        0        14  204004.0            682   \n",
       "3        0  159567        0        58  281969.0            634   \n",
       "4        1   23392        0         0  216707.0            233   \n",
       "\n",
       "   AVERAGE_CALL_DURATION REPORTED_SATISFACTION CONSIDERING_CHANGE_OF_PLAN  \\\n",
       "0                      5                 unsat                considering   \n",
       "1                      2                 unsat                         no   \n",
       "2                      6                 unsat                considering   \n",
       "3                      1            very_unsat              never_thought   \n",
       "4                     15                 unsat                         no   \n",
       "\n",
       "   CHURN  \n",
       "0      0  \n",
       "1      1  \n",
       "2      0  \n",
       "3      0  \n",
       "4      1  "
      ]
     },
     "execution_count": 3,
     "metadata": {},
     "output_type": "execute_result"
    }
   ],
   "source": [
    "# mobile data\n",
    "data_path = \"https://raw.githubusercontent.com/DA4BAM/dataset/master/mobile_NA2.csv\"\n",
    "mobile = pd.read_csv(data_path)\n",
    "mobile.drop(['id', 'REPORTED_USAGE_LEVEL','OVER_15MINS_CALLS_PER_MONTH'], axis = 1, inplace = True)\n",
    "mobile.head()"
   ]
  },
  {
   "cell_type": "markdown",
   "metadata": {
    "id": "JtiF310fjmJy"
   },
   "source": [
    "|변수 명|내용|구분|\n",
    "|\t----\t|\t----\t|\t----\t|\n",
    "|\tCOLLEGE\t|\t대학졸업 여부(1,0)\t|\t범주\t|\n",
    "|\tINCOME\t|\t연 수입액(달러)\t|\t\t|\n",
    "|\tOVERAGE\t|\t월 초과사용 시간(분)\t|\t\t|\n",
    "|\tLEFTOVER\t|\t월 사용 잔여시간(%)\t|\t\t|\n",
    "|\tHOUSE\t|\t집 가격(달러)\t|\t\t|\n",
    "|\tHANDSET_PRICE\t|\t핸드폰 가격(달러)\t|\t\t|\n",
    "|\tAVERAGE_CALL_DURATION\t|\t평균 통화시간(분)\t|\t\t|\n",
    "|\tREPORTED_SATISFACTION\t|\t만족도 설문('very_unsat', 'unsat', 'avg', 'sat', 'very_sat' )\t|\t범주\t|\n",
    "|\tCONSIDERING_CHANGE_OF_PLAN\t|\t변경 계획 설문('never_thought', 'no', 'perhaps', 'considering',   'actively_looking_into_it')\t|\t범주\t|\n",
    "|\t**CHURN**\t|\t이탈여부(1 : 이탈, 0 : 잔류)\t|\tLabel\t|\n"
   ]
  },
  {
   "cell_type": "markdown",
   "metadata": {
    "id": "bKimk8qVm8oC"
   },
   "source": [
    "----"
   ]
  },
  {
   "cell_type": "markdown",
   "metadata": {
    "id": "0bouXLxGkSSd"
   },
   "source": [
    "## 1.가설수립"
   ]
  },
  {
   "cell_type": "markdown",
   "metadata": {
    "id": "69Q5jPGu1JQ0"
   },
   "source": [
    "* 숫자형 최소 3개이상, 범주형 최소 2개 이상씩, 전체 6개의 변수를 도출, 가설을 수립하시오."
   ]
  },
  {
   "cell_type": "markdown",
   "metadata": {
    "id": "ydh7lwR6EHuL"
   },
   "source": [
    "* 가설1 : 연 수입액은 고객 이탈에 큰 영향을 미칠 것이다."
   ]
  },
  {
   "cell_type": "markdown",
   "metadata": {
    "id": "haK-v6pXEHuL"
   },
   "source": [
    "* 가설2 : 평균 통화시간은 고객 이탈에 영향을 미치지 않을 것이다."
   ]
  },
  {
   "cell_type": "markdown",
   "metadata": {
    "id": "bXpNRpDcEHuL"
   },
   "source": [
    "* 가설3 : 핸드폰 가격은 고객 이탈에 큰 영향을 미칠 것이다."
   ]
  },
  {
   "cell_type": "markdown",
   "metadata": {
    "id": "zvZmmfXOEHuL"
   },
   "source": [
    "* 가설4 : 만족도 설문은 고객 이탈에 큰 영향을 미칠 것이다."
   ]
  },
  {
   "cell_type": "markdown",
   "metadata": {
    "id": "b0LB5ArmEHuM"
   },
   "source": [
    "* 가설5 : 대학 졸업 여부는 고객 이탈에 영향을 미치지 않을 것이다."
   ]
  },
  {
   "cell_type": "markdown",
   "metadata": {
    "id": "3kIuQfdJ_i0L"
   },
   "source": [
    "* 가설6 : 집 가격은 고객 이탈에 영향을 미치지 않을 것이다."
   ]
  },
  {
   "cell_type": "markdown",
   "metadata": {
    "id": "82xzJIZhnAaX"
   },
   "source": [
    "----"
   ]
  },
  {
   "cell_type": "markdown",
   "metadata": {
    "id": "1hYPpnplEedX"
   },
   "source": [
    "## 2.단변량 분석\n",
    "\n",
    "① 변수의 비즈니스 의미  \n",
    "\n",
    "② 숫자? 범주?  \n",
    "\n",
    "③ 전처리 사항\n",
    "   - NaN 존재 여부 및 조치 방안  \n",
    "   - 가변수화 대상여부  \n",
    "   \n",
    "④ 기초통계량\n",
    "\n",
    "⑤ 분포  \n",
    "\n",
    "⑥ 위 정보로부터 파악한 내용(비즈니스!) 정리  \n",
    "\n",
    "⑦ 추가 분석해볼 사항 도출"
   ]
  },
  {
   "cell_type": "markdown",
   "metadata": {
    "id": "BP8iBi7We3AI"
   },
   "source": [
    "### 1) COLLEGE\t"
   ]
  },
  {
   "cell_type": "markdown",
   "metadata": {
    "id": "NRIsridhK3el"
   },
   "source": [
    "① 변수의 비즈니스 의미   : 대학 졸업 여부"
   ]
  },
  {
   "cell_type": "markdown",
   "metadata": {
    "id": "LdfsedUEEMP6"
   },
   "source": [
    "② 숫자? 범주? : 범주"
   ]
  },
  {
   "cell_type": "markdown",
   "metadata": {
    "id": "n53LBx0fEMMs"
   },
   "source": [
    "③ 전처리 사항\n",
    "   - NaN 존재 여부 및 조치 방안  \n",
    "   - 가변수화 대상여부  "
   ]
  },
  {
   "cell_type": "code",
   "execution_count": 4,
   "metadata": {},
   "outputs": [
    {
     "data": {
      "text/plain": [
       "0"
      ]
     },
     "execution_count": 4,
     "metadata": {},
     "output_type": "execute_result"
    }
   ],
   "source": [
    "mobile['COLLEGE'].isna().sum()"
   ]
  },
  {
   "cell_type": "markdown",
   "metadata": {},
   "source": [
    "* NaN 없음\n",
    "* 1,0 값이라 필요없음"
   ]
  },
  {
   "cell_type": "markdown",
   "metadata": {
    "id": "M-dKqpwTEMJe"
   },
   "source": [
    "④ 기초통계량\n"
   ]
  },
  {
   "cell_type": "code",
   "execution_count": 5,
   "metadata": {},
   "outputs": [
    {
     "data": {
      "text/plain": [
       "1    9049\n",
       "0    8951\n",
       "Name: COLLEGE, dtype: int64"
      ]
     },
     "execution_count": 5,
     "metadata": {},
     "output_type": "execute_result"
    }
   ],
   "source": [
    "mobile['COLLEGE'].value_counts()"
   ]
  },
  {
   "cell_type": "markdown",
   "metadata": {
    "id": "-67MJSNHEMF6"
   },
   "source": [
    "⑤ 분포  "
   ]
  },
  {
   "cell_type": "code",
   "execution_count": 6,
   "metadata": {
    "scrolled": true
   },
   "outputs": [
    {
     "name": "stderr",
     "output_type": "stream",
     "text": [
      "C:\\Users\\User\\anaconda3\\lib\\site-packages\\seaborn\\_decorators.py:36: FutureWarning: Pass the following variable as a keyword arg: x. From version 0.12, the only valid positional argument will be `data`, and passing other arguments without an explicit keyword will result in an error or misinterpretation.\n",
      "  warnings.warn(\n"
     ]
    },
    {
     "data": {
      "image/png": "[encoded data removed]",
      "text/plain": [
       "<Figure size 432x288 with 1 Axes>"
      ]
     },
     "metadata": {
      "needs_background": "light"
     },
     "output_type": "display_data"
    }
   ],
   "source": [
    "sns.countplot(mobile['COLLEGE'], order = [0, 1])\n",
    "plt.show()"
   ]
  },
  {
   "cell_type": "markdown",
   "metadata": {},
   "source": [
    "⑥ 위 정보로부터 파악한 내용(비즈니스!) 정리 "
   ]
  },
  {
   "cell_type": "markdown",
   "metadata": {},
   "source": [
    "* 대학 졸업여부가 비슷하게 분포하여 있음."
   ]
  },
  {
   "cell_type": "markdown",
   "metadata": {},
   "source": [
    "⑦ 추가 분석해볼 사항 도출"
   ]
  },
  {
   "cell_type": "markdown",
   "metadata": {},
   "source": [
    "* 대학 졸업에 따른 고객 이탈 여부"
   ]
  },
  {
   "cell_type": "markdown",
   "metadata": {
    "id": "cYkgwG47evaF"
   },
   "source": [
    "### 2) INCOME\t"
   ]
  },
  {
   "cell_type": "markdown",
   "metadata": {
    "id": "bUzXvik-Ka88"
   },
   "source": [
    "① 변수의 비즈니스 의미   : 연 수입액"
   ]
  },
  {
   "cell_type": "markdown",
   "metadata": {
    "id": "-wJGhdutEPTS"
   },
   "source": [
    "② 숫자? 범주? : 숫자"
   ]
  },
  {
   "cell_type": "markdown",
   "metadata": {
    "id": "_aotNSmkEPQR"
   },
   "source": [
    "③ 전처리 사항\n",
    "   - NaN 존재 여부 및 조치 방안  \n",
    "   - 가변수화 대상여부  "
   ]
  },
  {
   "cell_type": "code",
   "execution_count": 7,
   "metadata": {},
   "outputs": [
    {
     "data": {
      "text/plain": [
       "0"
      ]
     },
     "execution_count": 7,
     "metadata": {},
     "output_type": "execute_result"
    }
   ],
   "source": [
    "mobile['INCOME'].isna().sum()"
   ]
  },
  {
   "cell_type": "markdown",
   "metadata": {
    "id": "IURgySMwEPNJ"
   },
   "source": [
    "* NaN 없음\n",
    "* 숫자라 필요없음"
   ]
  },
  {
   "cell_type": "markdown",
   "metadata": {
    "id": "wSHuLg0GEPJ0"
   },
   "source": [
    "④ 기초통계량\n"
   ]
  },
  {
   "cell_type": "code",
   "execution_count": 9,
   "metadata": {},
   "outputs": [
    {
     "data": {
      "text/plain": [
       "count     18000.000000\n",
       "mean      80314.400278\n",
       "std       41703.420130\n",
       "min       20007.000000\n",
       "25%       42151.500000\n",
       "50%       75501.500000\n",
       "75%      116082.250000\n",
       "max      159983.000000\n",
       "Name: INCOME, dtype: float64"
      ]
     },
     "execution_count": 9,
     "metadata": {},
     "output_type": "execute_result"
    }
   ],
   "source": [
    "mobile['INCOME'].describe()"
   ]
  },
  {
   "cell_type": "markdown",
   "metadata": {},
   "source": [
    "⑤ 분포  "
   ]
  },
  {
   "cell_type": "code",
   "execution_count": 10,
   "metadata": {},
   "outputs": [
    {
     "name": "stderr",
     "output_type": "stream",
     "text": [
      "C:\\Users\\User\\anaconda3\\lib\\site-packages\\seaborn\\_decorators.py:36: FutureWarning: Pass the following variable as a keyword arg: x. From version 0.12, the only valid positional argument will be `data`, and passing other arguments without an explicit keyword will result in an error or misinterpretation.\n",
      "  warnings.warn(\n"
     ]
    },
    {
     "data": {
      "image/png": "[encoded data removed]",
      "text/plain": [
       "<Figure size 432x576 with 3 Axes>"
      ]
     },
     "metadata": {
      "needs_background": "light"
     },
     "output_type": "display_data"
    }
   ],
   "source": [
    "plt.figure(figsize = (6,8))\n",
    "plt.subplot(3,1,1)\n",
    "sns.histplot(mobile['INCOME'], bins = 20)\n",
    "\n",
    "plt.subplot(3,1,2)\n",
    "sns.kdeplot(mobile['INCOME'])\n",
    "\n",
    "plt.subplot(3,1,3)\n",
    "sns.boxplot(mobile['INCOME'])\n",
    "\n",
    "plt.tight_layout()\n",
    "plt.show()"
   ]
  },
  {
   "cell_type": "markdown",
   "metadata": {},
   "source": [
    "⑥ 위 정보로부터 파악한 내용(비즈니스!) 정리 "
   ]
  },
  {
   "cell_type": "markdown",
   "metadata": {},
   "source": [
    "* 20,000 ~ 60,000 까지에 많이 몰려있음"
   ]
  },
  {
   "cell_type": "markdown",
   "metadata": {},
   "source": [
    "⑦ 추가 분석해볼 사항 도출"
   ]
  },
  {
   "cell_type": "markdown",
   "metadata": {},
   "source": [
    "* 집 가격 및 핸드폰 가격 등과 비교해볼 필요가 있음"
   ]
  },
  {
   "cell_type": "markdown",
   "metadata": {
    "id": "UNgJNBEIfB1p"
   },
   "source": [
    "### 3) OVERAGE"
   ]
  },
  {
   "cell_type": "markdown",
   "metadata": {
    "id": "7FsVbJ_mKi15"
   },
   "source": [
    "① 변수의 비즈니스 의미   : 월 초과사용 시간(분)"
   ]
  },
  {
   "cell_type": "markdown",
   "metadata": {},
   "source": [
    "② 숫자? 범주? : 숫자"
   ]
  },
  {
   "cell_type": "markdown",
   "metadata": {},
   "source": [
    "③ 전처리 사항\n",
    "   - NaN 존재 여부 및 조치 방안  \n",
    "   - 가변수화 대상여부  "
   ]
  },
  {
   "cell_type": "code",
   "execution_count": 11,
   "metadata": {},
   "outputs": [
    {
     "data": {
      "text/plain": [
       "0"
      ]
     },
     "execution_count": 11,
     "metadata": {},
     "output_type": "execute_result"
    }
   ],
   "source": [
    "mobile['OVERAGE'].isna().sum()"
   ]
  },
  {
   "cell_type": "markdown",
   "metadata": {},
   "source": [
    "* NaN 없음\n",
    "* 숫자라 필요없음"
   ]
  },
  {
   "cell_type": "markdown",
   "metadata": {
    "id": "5bpbg_e7ERk3"
   },
   "source": [
    "④ 기초통계량"
   ]
  },
  {
   "cell_type": "code",
   "execution_count": 12,
   "metadata": {},
   "outputs": [
    {
     "data": {
      "text/plain": [
       "count    18000.000000\n",
       "mean        86.014833\n",
       "std         85.963981\n",
       "min         -2.000000\n",
       "25%          0.000000\n",
       "50%         59.000000\n",
       "75%        179.000000\n",
       "max        335.000000\n",
       "Name: OVERAGE, dtype: float64"
      ]
     },
     "execution_count": 12,
     "metadata": {},
     "output_type": "execute_result"
    }
   ],
   "source": [
    "mobile['OVERAGE'].describe()"
   ]
  },
  {
   "cell_type": "markdown",
   "metadata": {
    "id": "QYb8bCyrERh_"
   },
   "source": [
    "⑤ 분포  "
   ]
  },
  {
   "cell_type": "code",
   "execution_count": 12,
   "metadata": {},
   "outputs": [
    {
     "data": {
      "text/plain": [
       "count    18000.000000\n",
       "mean        86.014833\n",
       "std         85.963981\n",
       "min         -2.000000\n",
       "25%          0.000000\n",
       "50%         59.000000\n",
       "75%        179.000000\n",
       "max        335.000000\n",
       "Name: OVERAGE, dtype: float64"
      ]
     },
     "execution_count": 12,
     "metadata": {},
     "output_type": "execute_result"
    }
   ],
   "source": [
    "mobile['OVERAGE'].describe()"
   ]
  },
  {
   "cell_type": "code",
   "execution_count": 13,
   "metadata": {},
   "outputs": [
    {
     "name": "stderr",
     "output_type": "stream",
     "text": [
      "C:\\Users\\User\\anaconda3\\lib\\site-packages\\seaborn\\_decorators.py:36: FutureWarning: Pass the following variable as a keyword arg: x. From version 0.12, the only valid positional argument will be `data`, and passing other arguments without an explicit keyword will result in an error or misinterpretation.\n",
      "  warnings.warn(\n"
     ]
    },
    {
     "data": {
      "image/png": "[encoded data removed]",
      "text/plain": [
       "<Figure size 432x576 with 3 Axes>"
      ]
     },
     "metadata": {
      "needs_background": "light"
     },
     "output_type": "display_data"
    }
   ],
   "source": [
    "plt.figure(figsize = (6,8))\n",
    "plt.subplot(3,1,1)\n",
    "sns.histplot(mobile['OVERAGE'], bins = 20)\n",
    "\n",
    "plt.subplot(3,1,2)\n",
    "sns.kdeplot(mobile['OVERAGE'])\n",
    "\n",
    "plt.subplot(3,1,3)\n",
    "sns.boxplot(mobile['OVERAGE'])\n",
    "\n",
    "plt.tight_layout()\n",
    "plt.show()"
   ]
  },
  {
   "cell_type": "markdown",
   "metadata": {
    "id": "aELmCKGSERed"
   },
   "source": [
    "⑥ 위 정보로부터 파악한 내용(비즈니스!) 정리 "
   ]
  },
  {
   "cell_type": "markdown",
   "metadata": {},
   "source": [
    "* 초과시간이 0분인 사람이 대다수이며 평균적으로 86분정도 초과함\n",
    "* 0분에서 30분까지 30분에서 150분까지, 150분 에서 300까지 범주로 나뉘어 조사가 필요"
   ]
  },
  {
   "cell_type": "markdown",
   "metadata": {
    "id": "EOpUeelrERbJ"
   },
   "source": [
    "⑦ 추가 분석해볼 사항 도출"
   ]
  },
  {
   "cell_type": "markdown",
   "metadata": {},
   "source": [
    "* 잔여시간과의 비교 및 이탈여부를 확인하고 3개의 범위를 나누어 분석할 필요가 있음"
   ]
  },
  {
   "cell_type": "markdown",
   "metadata": {
    "id": "e3QPEq8efB1r"
   },
   "source": [
    "### 4) LEFTOVER"
   ]
  },
  {
   "cell_type": "markdown",
   "metadata": {
    "id": "H4Oa5BnzKme9"
   },
   "source": [
    "① 변수의 비즈니스 의미   : 월 사용 잔여시간(%)"
   ]
  },
  {
   "cell_type": "markdown",
   "metadata": {
    "id": "r6Aiu2rkEUc-"
   },
   "source": [
    "② 숫자? 범주? : 숫자"
   ]
  },
  {
   "cell_type": "markdown",
   "metadata": {},
   "source": [
    "③ 전처리 사항\n",
    "   - NaN 존재 여부 및 조치 방안  \n",
    "   - 가변수화 대상여부  "
   ]
  },
  {
   "cell_type": "code",
   "execution_count": 14,
   "metadata": {},
   "outputs": [
    {
     "data": {
      "text/plain": [
       "0"
      ]
     },
     "execution_count": 14,
     "metadata": {},
     "output_type": "execute_result"
    }
   ],
   "source": [
    "mobile['LEFTOVER'].isna().sum()"
   ]
  },
  {
   "cell_type": "markdown",
   "metadata": {},
   "source": [
    "* NaN 없음\n",
    "* 숫자라 필요없음"
   ]
  },
  {
   "cell_type": "markdown",
   "metadata": {},
   "source": [
    "④ 기초통계량\n"
   ]
  },
  {
   "cell_type": "code",
   "execution_count": 17,
   "metadata": {},
   "outputs": [
    {
     "data": {
      "text/plain": [
       "count    18000.000000\n",
       "mean        23.995500\n",
       "std         26.860363\n",
       "min          0.000000\n",
       "25%          0.000000\n",
       "50%         14.500000\n",
       "75%         42.000000\n",
       "max         89.000000\n",
       "Name: LEFTOVER, dtype: float64"
      ]
     },
     "execution_count": 17,
     "metadata": {},
     "output_type": "execute_result"
    }
   ],
   "source": [
    "mobile['LEFTOVER'].describe()"
   ]
  },
  {
   "cell_type": "markdown",
   "metadata": {
    "id": "Z8XzJMuFEUZp"
   },
   "source": [
    "⑤ 분포  "
   ]
  },
  {
   "cell_type": "code",
   "execution_count": 52,
   "metadata": {},
   "outputs": [
    {
     "name": "stderr",
     "output_type": "stream",
     "text": [
      "C:\\Users\\User\\anaconda3\\lib\\site-packages\\seaborn\\_decorators.py:36: FutureWarning: Pass the following variable as a keyword arg: x. From version 0.12, the only valid positional argument will be `data`, and passing other arguments without an explicit keyword will result in an error or misinterpretation.\n",
      "  warnings.warn(\n"
     ]
    },
    {
     "data": {
      "image/png": "[encoded data removed]",
      "text/plain": [
       "<Figure size 432x576 with 3 Axes>"
      ]
     },
     "metadata": {
      "needs_background": "light"
     },
     "output_type": "display_data"
    }
   ],
   "source": [
    "plt.figure(figsize = (6,8))\n",
    "plt.subplot(3,1,1)\n",
    "sns.histplot(mobile['LEFTOVER'], bins = 20)\n",
    "\n",
    "plt.subplot(3,1,2)\n",
    "sns.kdeplot(mobile['LEFTOVER'])\n",
    "\n",
    "plt.subplot(3,1,3)\n",
    "sns.boxplot(mobile['LEFTOVER'])\n",
    "\n",
    "plt.tight_layout()\n",
    "plt.show()"
   ]
  },
  {
   "cell_type": "markdown",
   "metadata": {
    "id": "fzR3w0yaEUWY"
   },
   "source": [
    "⑥ 위 정보로부터 파악한 내용(비즈니스!) 정리 "
   ]
  },
  {
   "cell_type": "markdown",
   "metadata": {},
   "source": [
    "* 잔여 시간이 대부분 없으며 평균 23% 정도 남는다고 보여짐"
   ]
  },
  {
   "cell_type": "markdown",
   "metadata": {
    "id": "nb1zmTAgEUS3"
   },
   "source": [
    "⑦ 추가 분석해볼 사항 도출"
   ]
  },
  {
   "cell_type": "markdown",
   "metadata": {},
   "source": [
    "* 잔여시간과 이탈여부를 확인해야함"
   ]
  },
  {
   "cell_type": "markdown",
   "metadata": {
    "id": "E5rB6CiofI_d"
   },
   "source": [
    "### 5) HOUSE"
   ]
  },
  {
   "cell_type": "markdown",
   "metadata": {
    "id": "BoOX0VRsKped"
   },
   "source": [
    "① 변수의 비즈니스 의미   : 집 가격(달러)"
   ]
  },
  {
   "cell_type": "markdown",
   "metadata": {},
   "source": [
    "② 숫자? 범주? : 숫자"
   ]
  },
  {
   "cell_type": "markdown",
   "metadata": {},
   "source": [
    "③ 전처리 사항\n",
    "   - NaN 존재 여부 및 조치 방안  \n",
    "   - 가변수화 대상여부  "
   ]
  },
  {
   "cell_type": "code",
   "execution_count": 18,
   "metadata": {},
   "outputs": [
    {
     "data": {
      "text/plain": [
       "215"
      ]
     },
     "execution_count": 18,
     "metadata": {},
     "output_type": "execute_result"
    }
   ],
   "source": [
    "mobile['HOUSE'].isna().sum()"
   ]
  },
  {
   "cell_type": "markdown",
   "metadata": {},
   "source": [
    "* NaN이 있으므로 notnull() 을 이용하여 데이터 분석을 할 예정\n",
    "* 숫자라 필요없음"
   ]
  },
  {
   "cell_type": "markdown",
   "metadata": {
    "id": "UbgPbP4YEWp0"
   },
   "source": [
    "④ 기초통계량"
   ]
  },
  {
   "cell_type": "code",
   "execution_count": 19,
   "metadata": {},
   "outputs": [
    {
     "data": {
      "text/plain": [
       "count     17785.000000\n",
       "mean     492950.532696\n",
       "std      252175.173507\n",
       "min      150015.000000\n",
       "25%      263876.000000\n",
       "50%      452277.000000\n",
       "75%      701460.000000\n",
       "max      999970.000000\n",
       "Name: HOUSE, dtype: float64"
      ]
     },
     "execution_count": 19,
     "metadata": {},
     "output_type": "execute_result"
    }
   ],
   "source": [
    "mobile['HOUSE'].describe()"
   ]
  },
  {
   "cell_type": "markdown",
   "metadata": {
    "id": "YQvxJ9AaEWmV"
   },
   "source": [
    "⑤ 분포  "
   ]
  },
  {
   "cell_type": "code",
   "execution_count": 20,
   "metadata": {},
   "outputs": [
    {
     "name": "stderr",
     "output_type": "stream",
     "text": [
      "C:\\Users\\User\\anaconda3\\lib\\site-packages\\seaborn\\_decorators.py:36: FutureWarning: Pass the following variable as a keyword arg: x. From version 0.12, the only valid positional argument will be `data`, and passing other arguments without an explicit keyword will result in an error or misinterpretation.\n",
      "  warnings.warn(\n"
     ]
    },
    {
     "data": {
      "image/png": "[encoded data removed]",
      "text/plain": [
       "<Figure size 432x576 with 3 Axes>"
      ]
     },
     "metadata": {
      "needs_background": "light"
     },
     "output_type": "display_data"
    }
   ],
   "source": [
    "plt.figure(figsize = (6,8))\n",
    "plt.subplot(3,1,1)\n",
    "sns.histplot(mobile['HOUSE'], bins = 20)\n",
    "\n",
    "plt.subplot(3,1,2)\n",
    "sns.kdeplot(mobile['HOUSE'])\n",
    "\n",
    "plt.subplot(3,1,3)\n",
    "sns.boxplot(mobile['HOUSE'])\n",
    "\n",
    "plt.tight_layout()\n",
    "plt.show()"
   ]
  },
  {
   "cell_type": "markdown",
   "metadata": {
    "id": "TNcmlLfHEWjg"
   },
   "source": [
    "⑥ 위 정보로부터 파악한 내용(비즈니스!) 정리 "
   ]
  },
  {
   "cell_type": "markdown",
   "metadata": {},
   "source": [
    "* 집이 없는 사용자도 있으며, 10만부터 30만달러 정도까지의 사용자가 많이 분포되어 있음"
   ]
  },
  {
   "cell_type": "markdown",
   "metadata": {
    "id": "e0BoQmeOEWgF"
   },
   "source": [
    "⑦ 추가 분석해볼 사항 도출"
   ]
  },
  {
   "cell_type": "markdown",
   "metadata": {},
   "source": [
    "* 집값과 이탈 유무를 확인 해봐야함"
   ]
  },
  {
   "cell_type": "markdown",
   "metadata": {
    "id": "Es3rqfErEb4L"
   },
   "source": [
    "### 6) HANDSET_PRICE"
   ]
  },
  {
   "cell_type": "markdown",
   "metadata": {
    "id": "CokPil3nLCc7"
   },
   "source": [
    "① 변수의 비즈니스 의미   : 핸드폰 가격(달러)"
   ]
  },
  {
   "cell_type": "markdown",
   "metadata": {
    "id": "Gr_p2-bKEY8c"
   },
   "source": [
    "② 숫자? 범주? : 숫자"
   ]
  },
  {
   "cell_type": "markdown",
   "metadata": {},
   "source": [
    "③ 전처리 사항\n",
    "   - NaN 존재 여부 및 조치 방안  \n",
    "   - 가변수화 대상여부  "
   ]
  },
  {
   "cell_type": "code",
   "execution_count": 21,
   "metadata": {},
   "outputs": [
    {
     "data": {
      "text/plain": [
       "0"
      ]
     },
     "execution_count": 21,
     "metadata": {},
     "output_type": "execute_result"
    }
   ],
   "source": [
    "mobile['HANDSET_PRICE'].isna().sum()"
   ]
  },
  {
   "cell_type": "markdown",
   "metadata": {},
   "source": [
    "* NaN 없음\n",
    "* 숫자라 필요없음"
   ]
  },
  {
   "cell_type": "markdown",
   "metadata": {},
   "source": [
    "④ 기초통계량\n"
   ]
  },
  {
   "cell_type": "code",
   "execution_count": 54,
   "metadata": {},
   "outputs": [
    {
     "data": {
      "text/plain": [
       "count    18000.000000\n",
       "mean       390.096667\n",
       "std        214.239639\n",
       "min        130.000000\n",
       "25%        219.000000\n",
       "50%        326.000000\n",
       "75%        536.000000\n",
       "max        899.000000\n",
       "Name: HANDSET_PRICE, dtype: float64"
      ]
     },
     "execution_count": 54,
     "metadata": {},
     "output_type": "execute_result"
    }
   ],
   "source": [
    "mobile['HANDSET_PRICE'].describe()"
   ]
  },
  {
   "cell_type": "markdown",
   "metadata": {
    "id": "onnE3DVmEY5C"
   },
   "source": [
    "⑤ 분포  "
   ]
  },
  {
   "cell_type": "code",
   "execution_count": 53,
   "metadata": {},
   "outputs": [
    {
     "name": "stderr",
     "output_type": "stream",
     "text": [
      "C:\\Users\\User\\anaconda3\\lib\\site-packages\\seaborn\\_decorators.py:36: FutureWarning: Pass the following variable as a keyword arg: x. From version 0.12, the only valid positional argument will be `data`, and passing other arguments without an explicit keyword will result in an error or misinterpretation.\n",
      "  warnings.warn(\n"
     ]
    },
    {
     "data": {
      "image/png": "[encoded data removed]",
      "text/plain": [
       "<Figure size 432x576 with 3 Axes>"
      ]
     },
     "metadata": {
      "needs_background": "light"
     },
     "output_type": "display_data"
    }
   ],
   "source": [
    "plt.figure(figsize = (6,8))\n",
    "plt.subplot(3,1,1)\n",
    "sns.histplot(mobile['HANDSET_PRICE'], bins = 20)\n",
    "\n",
    "plt.subplot(3,1,2)\n",
    "sns.kdeplot(mobile['HANDSET_PRICE'])\n",
    "\n",
    "plt.subplot(3,1,3)\n",
    "sns.boxplot(mobile['HANDSET_PRICE'])\n",
    "\n",
    "plt.tight_layout()\n",
    "plt.show()"
   ]
  },
  {
   "cell_type": "markdown",
   "metadata": {
    "id": "3WRPvPWsEY2A"
   },
   "source": [
    "⑥ 위 정보로부터 파악한 내용(비즈니스!) 정리 "
   ]
  },
  {
   "cell_type": "markdown",
   "metadata": {},
   "source": [
    "* 평균적으로 390달러인 것을 알수있고 130달러부터 400달러까지의 분포가 가장 많다"
   ]
  },
  {
   "cell_type": "markdown",
   "metadata": {
    "id": "bURrEvizEYy6"
   },
   "source": [
    "⑦ 추가 분석해볼 사항 도출"
   ]
  },
  {
   "cell_type": "markdown",
   "metadata": {},
   "source": [
    "* 2가지 범위로 나누어서 분석해볼 필요가 있음"
   ]
  },
  {
   "cell_type": "markdown",
   "metadata": {
    "id": "78iry0XpLCc0"
   },
   "source": [
    "### 7) CHURN(target)"
   ]
  },
  {
   "cell_type": "markdown",
   "metadata": {
    "id": "XJ0YIFJrEb4R"
   },
   "source": [
    "① 변수의 비즈니스 의미   : 이탈 여부( 1: 이탈, 0: 잔류)"
   ]
  },
  {
   "cell_type": "markdown",
   "metadata": {},
   "source": [
    "② 숫자? 범주? : 범주"
   ]
  },
  {
   "cell_type": "markdown",
   "metadata": {},
   "source": [
    "③ 전처리 사항\n",
    "   - NaN 존재 여부 및 조치 방안  \n",
    "   - 가변수화 대상여부  "
   ]
  },
  {
   "cell_type": "code",
   "execution_count": 22,
   "metadata": {},
   "outputs": [
    {
     "data": {
      "text/plain": [
       "0"
      ]
     },
     "execution_count": 22,
     "metadata": {},
     "output_type": "execute_result"
    }
   ],
   "source": [
    "mobile['CHURN'].isna().sum()"
   ]
  },
  {
   "cell_type": "markdown",
   "metadata": {},
   "source": [
    "* NaN 없음\n",
    "* 범주가 0,1 이라 필요 없음."
   ]
  },
  {
   "cell_type": "markdown",
   "metadata": {
    "id": "626cRSYjEb4R"
   },
   "source": [
    "④ 기초통계량"
   ]
  },
  {
   "cell_type": "code",
   "execution_count": 55,
   "metadata": {},
   "outputs": [
    {
     "data": {
      "text/plain": [
       "0    9131\n",
       "1    8869\n",
       "Name: CHURN, dtype: int64"
      ]
     },
     "execution_count": 55,
     "metadata": {},
     "output_type": "execute_result"
    }
   ],
   "source": [
    "mobile['CHURN'].value_counts()"
   ]
  },
  {
   "cell_type": "markdown",
   "metadata": {
    "id": "vXTWiazJEb4R"
   },
   "source": [
    "⑤ 분포  "
   ]
  },
  {
   "cell_type": "code",
   "execution_count": 23,
   "metadata": {},
   "outputs": [
    {
     "name": "stderr",
     "output_type": "stream",
     "text": [
      "C:\\Users\\User\\anaconda3\\lib\\site-packages\\seaborn\\_decorators.py:36: FutureWarning: Pass the following variable as a keyword arg: x. From version 0.12, the only valid positional argument will be `data`, and passing other arguments without an explicit keyword will result in an error or misinterpretation.\n",
      "  warnings.warn(\n"
     ]
    },
    {
     "data": {
      "image/png": "[encoded data removed]",
      "text/plain": [
       "<Figure size 432x288 with 1 Axes>"
      ]
     },
     "metadata": {
      "needs_background": "light"
     },
     "output_type": "display_data"
    }
   ],
   "source": [
    "sns.countplot(mobile['CHURN'], order = [0, 1])\n",
    "plt.show()"
   ]
  },
  {
   "cell_type": "markdown",
   "metadata": {
    "id": "_J4LqspjEb4R"
   },
   "source": [
    "⑥ 위 정보로부터 파악한 내용(비즈니스!) 정리 "
   ]
  },
  {
   "cell_type": "markdown",
   "metadata": {},
   "source": [
    "* 이탈하는 비율이 근소하게 앞섬"
   ]
  },
  {
   "cell_type": "markdown",
   "metadata": {
    "id": "L5_tBDWkEb4R"
   },
   "source": [
    "⑦ 추가 분석해볼 사항 도출"
   ]
  },
  {
   "cell_type": "markdown",
   "metadata": {},
   "source": [
    "* 다른 변수들과 비교 해봐야함"
   ]
  },
  {
   "cell_type": "markdown",
   "metadata": {
    "id": "I_LEx3qrElFy"
   },
   "source": [
    "### 8) AVERAGE_CALL_DURATION"
   ]
  },
  {
   "cell_type": "markdown",
   "metadata": {
    "id": "wyvZvb9mElF0"
   },
   "source": [
    "① 변수의 비즈니스 의미   : 평균 통화시간(분)"
   ]
  },
  {
   "cell_type": "markdown",
   "metadata": {},
   "source": [
    "② 숫자? 범주? : 숫자"
   ]
  },
  {
   "cell_type": "markdown",
   "metadata": {},
   "source": [
    "③ 전처리 사항\n",
    "   - NaN 존재 여부 및 조치 방안  \n",
    "   - 가변수화 대상여부  "
   ]
  },
  {
   "cell_type": "code",
   "execution_count": 24,
   "metadata": {},
   "outputs": [
    {
     "data": {
      "text/plain": [
       "0"
      ]
     },
     "execution_count": 24,
     "metadata": {},
     "output_type": "execute_result"
    }
   ],
   "source": [
    "mobile['AVERAGE_CALL_DURATION'].isna().sum()"
   ]
  },
  {
   "cell_type": "markdown",
   "metadata": {},
   "source": [
    "* NaN 없음\n",
    "* 숫자라 필요없음"
   ]
  },
  {
   "cell_type": "markdown",
   "metadata": {
    "id": "DeY24rCtElF1"
   },
   "source": [
    "④ 기초통계량\n"
   ]
  },
  {
   "cell_type": "code",
   "execution_count": 56,
   "metadata": {},
   "outputs": [
    {
     "data": {
      "text/plain": [
       "count    18000.000000\n",
       "mean         5.990944\n",
       "std          4.398894\n",
       "min          1.000000\n",
       "25%          2.000000\n",
       "50%          5.000000\n",
       "75%         10.000000\n",
       "max         15.000000\n",
       "Name: AVERAGE_CALL_DURATION, dtype: float64"
      ]
     },
     "execution_count": 56,
     "metadata": {},
     "output_type": "execute_result"
    }
   ],
   "source": [
    "mobile['AVERAGE_CALL_DURATION'].describe()"
   ]
  },
  {
   "cell_type": "markdown",
   "metadata": {
    "id": "BENvl52-ElF1"
   },
   "source": [
    "⑤ 분포  "
   ]
  },
  {
   "cell_type": "code",
   "execution_count": 57,
   "metadata": {},
   "outputs": [
    {
     "name": "stderr",
     "output_type": "stream",
     "text": [
      "C:\\Users\\User\\anaconda3\\lib\\site-packages\\seaborn\\_decorators.py:36: FutureWarning: Pass the following variable as a keyword arg: x. From version 0.12, the only valid positional argument will be `data`, and passing other arguments without an explicit keyword will result in an error or misinterpretation.\n",
      "  warnings.warn(\n"
     ]
    },
    {
     "data": {
      "image/png": "[encoded data removed]",
      "text/plain": [
       "<Figure size 432x576 with 3 Axes>"
      ]
     },
     "metadata": {
      "needs_background": "light"
     },
     "output_type": "display_data"
    }
   ],
   "source": [
    "plt.figure(figsize = (6,8))\n",
    "plt.subplot(3,1,1)\n",
    "sns.histplot(mobile['AVERAGE_CALL_DURATION'], bins = 20)\n",
    "\n",
    "plt.subplot(3,1,2)\n",
    "sns.kdeplot(mobile['AVERAGE_CALL_DURATION'])\n",
    "\n",
    "plt.subplot(3,1,3)\n",
    "sns.boxplot(mobile['AVERAGE_CALL_DURATION'])\n",
    "\n",
    "plt.tight_layout()\n",
    "plt.show()"
   ]
  },
  {
   "cell_type": "markdown",
   "metadata": {
    "id": "HV42AiIgElF2"
   },
   "source": [
    "⑥ 위 정보로부터 파악한 내용(비즈니스!) 정리 "
   ]
  },
  {
   "cell_type": "markdown",
   "metadata": {},
   "source": [
    "* 평균적으로 6분정도 통화하며 6분 이전의 비율이 이후의 비율보다 많다."
   ]
  },
  {
   "cell_type": "markdown",
   "metadata": {
    "id": "lZXqKrYlElF3"
   },
   "source": [
    "⑦ 추가 분석해볼 사항 도출"
   ]
  },
  {
   "cell_type": "markdown",
   "metadata": {},
   "source": [
    "* 남은 통화시간 및 초과 통화시간과의 분석 필요"
   ]
  },
  {
   "cell_type": "markdown",
   "metadata": {
    "id": "2V44ES-3ElPI"
   },
   "source": [
    "### 9) REPORTED_SATISFACTION"
   ]
  },
  {
   "cell_type": "markdown",
   "metadata": {
    "id": "NJUgw3cLElPJ"
   },
   "source": [
    "① 변수의 비즈니스 의미   : 만족도 설문"
   ]
  },
  {
   "cell_type": "markdown",
   "metadata": {
    "id": "R242REBYElPJ"
   },
   "source": [
    "② 숫자? 범주? : 범주"
   ]
  },
  {
   "cell_type": "markdown",
   "metadata": {},
   "source": [
    "③ 전처리 사항\n",
    "   - NaN 존재 여부 및 조치 방안  \n",
    "   - 가변수화 대상여부  "
   ]
  },
  {
   "cell_type": "code",
   "execution_count": 25,
   "metadata": {},
   "outputs": [
    {
     "data": {
      "text/plain": [
       "38"
      ]
     },
     "execution_count": 25,
     "metadata": {},
     "output_type": "execute_result"
    }
   ],
   "source": [
    "mobile['REPORTED_SATISFACTION'].isna().sum()"
   ]
  },
  {
   "cell_type": "markdown",
   "metadata": {},
   "source": [
    "* NaN 이 있으므로 notnull()을 통해 데이터를 분석할 예정\n",
    "* 범주형이고 1, 0 이 아니므로 가변수화 필요"
   ]
  },
  {
   "cell_type": "markdown",
   "metadata": {},
   "source": [
    "④ 기초통계량\n"
   ]
  },
  {
   "cell_type": "code",
   "execution_count": 58,
   "metadata": {
    "scrolled": true
   },
   "outputs": [
    {
     "data": {
      "text/plain": [
       "very_unsat    7072\n",
       "very_sat      4562\n",
       "unsat         3590\n",
       "avg           1806\n",
       "sat            932\n",
       "Name: REPORTED_SATISFACTION, dtype: int64"
      ]
     },
     "execution_count": 58,
     "metadata": {},
     "output_type": "execute_result"
    }
   ],
   "source": [
    "mobile['REPORTED_SATISFACTION'].value_counts()"
   ]
  },
  {
   "cell_type": "markdown",
   "metadata": {
    "id": "O0ljvKB9ElPK"
   },
   "source": [
    "⑤ 분포  "
   ]
  },
  {
   "cell_type": "code",
   "execution_count": 61,
   "metadata": {
    "scrolled": true
   },
   "outputs": [
    {
     "name": "stderr",
     "output_type": "stream",
     "text": [
      "C:\\Users\\User\\anaconda3\\lib\\site-packages\\seaborn\\_decorators.py:36: FutureWarning: Pass the following variable as a keyword arg: x. From version 0.12, the only valid positional argument will be `data`, and passing other arguments without an explicit keyword will result in an error or misinterpretation.\n",
      "  warnings.warn(\n"
     ]
    },
    {
     "data": {
      "image/png": "[encoded data removed]",
      "text/plain": [
       "<Figure size 432x288 with 1 Axes>"
      ]
     },
     "metadata": {
      "needs_background": "light"
     },
     "output_type": "display_data"
    }
   ],
   "source": [
    "sns.countplot(mobile['REPORTED_SATISFACTION'], order = ['very_unsat' , 'unsat', 'avg' , 'sat' ,  'very_sat'])\n",
    "plt.show()"
   ]
  },
  {
   "cell_type": "markdown",
   "metadata": {
    "id": "33eOZSyHElPK"
   },
   "source": [
    "⑥ 위 정보로부터 파악한 내용(비즈니스!) 정리 "
   ]
  },
  {
   "cell_type": "markdown",
   "metadata": {},
   "source": [
    "* 매우 불만족이 가장 많은 득점을 하였고 대체적으로 불만족이 많다."
   ]
  },
  {
   "cell_type": "markdown",
   "metadata": {
    "id": "7xrvgA3xElPL"
   },
   "source": [
    "⑦ 추가 분석해볼 사항 도출"
   ]
  },
  {
   "cell_type": "markdown",
   "metadata": {},
   "source": [
    "* 불만족인 것과 만족인 것을 나누어 분석할 필요가 있음"
   ]
  },
  {
   "cell_type": "markdown",
   "metadata": {
    "id": "JtuaNNKyEmOL"
   },
   "source": [
    "### 10) CONSIDERING_CHANGE_OF_PLAN"
   ]
  },
  {
   "cell_type": "markdown",
   "metadata": {
    "id": "iFeD-vwlEmOM"
   },
   "source": [
    "① 변수의 비즈니스 의미   : 변경 계획 설문"
   ]
  },
  {
   "cell_type": "markdown",
   "metadata": {},
   "source": [
    "② 숫자? 범주? : 범주"
   ]
  },
  {
   "cell_type": "markdown",
   "metadata": {},
   "source": [
    "③ 전처리 사항\n",
    "   - NaN 존재 여부 및 조치 방안  \n",
    "   - 가변수화 대상여부  "
   ]
  },
  {
   "cell_type": "code",
   "execution_count": 62,
   "metadata": {},
   "outputs": [
    {
     "data": {
      "text/plain": [
       "0"
      ]
     },
     "execution_count": 62,
     "metadata": {},
     "output_type": "execute_result"
    }
   ],
   "source": [
    "mobile['CONSIDERING_CHANGE_OF_PLAN'].isna().sum()"
   ]
  },
  {
   "cell_type": "markdown",
   "metadata": {},
   "source": [
    "* NaN 없음\n",
    "* 범주형이고, 0,1 값이 아니므로 가변수화 필요"
   ]
  },
  {
   "cell_type": "markdown",
   "metadata": {
    "id": "tkf9ymn_EmOM"
   },
   "source": [
    "④ 기초통계량\n"
   ]
  },
  {
   "cell_type": "code",
   "execution_count": 64,
   "metadata": {},
   "outputs": [
    {
     "data": {
      "text/plain": [
       "count           18000\n",
       "unique              5\n",
       "top       considering\n",
       "freq             7141\n",
       "Name: CONSIDERING_CHANGE_OF_PLAN, dtype: object"
      ]
     },
     "execution_count": 64,
     "metadata": {},
     "output_type": "execute_result"
    }
   ],
   "source": [
    "mobile['CONSIDERING_CHANGE_OF_PLAN'].describe()"
   ]
  },
  {
   "cell_type": "code",
   "execution_count": 66,
   "metadata": {},
   "outputs": [
    {
     "data": {
      "text/html": [
       "<div>\n",
       "<style scoped>\n",
       "    .dataframe tbody tr th:only-of-type {\n",
       "        vertical-align: middle;\n",
       "    }\n",
       "\n",
       "    .dataframe tbody tr th {\n",
       "        vertical-align: top;\n",
       "    }\n",
       "\n",
       "    .dataframe thead th {\n",
       "        text-align: right;\n",
       "    }\n",
       "</style>\n",
       "<table border=\"1\" class=\"dataframe\">\n",
       "  <thead>\n",
       "    <tr style=\"text-align: right;\">\n",
       "      <th></th>\n",
       "      <th>COLLEGE</th>\n",
       "      <th>INCOME</th>\n",
       "      <th>OVERAGE</th>\n",
       "      <th>LEFTOVER</th>\n",
       "      <th>HOUSE</th>\n",
       "      <th>HANDSET_PRICE</th>\n",
       "      <th>AVERAGE_CALL_DURATION</th>\n",
       "      <th>REPORTED_SATISFACTION</th>\n",
       "      <th>CONSIDERING_CHANGE_OF_PLAN</th>\n",
       "      <th>CHURN</th>\n",
       "    </tr>\n",
       "  </thead>\n",
       "  <tbody>\n",
       "    <tr>\n",
       "      <th>0</th>\n",
       "      <td>1</td>\n",
       "      <td>47711</td>\n",
       "      <td>183</td>\n",
       "      <td>17</td>\n",
       "      <td>730589.0</td>\n",
       "      <td>192</td>\n",
       "      <td>5</td>\n",
       "      <td>unsat</td>\n",
       "      <td>considering</td>\n",
       "      <td>0</td>\n",
       "    </tr>\n",
       "    <tr>\n",
       "      <th>1</th>\n",
       "      <td>0</td>\n",
       "      <td>74132</td>\n",
       "      <td>191</td>\n",
       "      <td>43</td>\n",
       "      <td>535092.0</td>\n",
       "      <td>349</td>\n",
       "      <td>2</td>\n",
       "      <td>unsat</td>\n",
       "      <td>no</td>\n",
       "      <td>1</td>\n",
       "    </tr>\n",
       "    <tr>\n",
       "      <th>2</th>\n",
       "      <td>1</td>\n",
       "      <td>150419</td>\n",
       "      <td>0</td>\n",
       "      <td>14</td>\n",
       "      <td>204004.0</td>\n",
       "      <td>682</td>\n",
       "      <td>6</td>\n",
       "      <td>unsat</td>\n",
       "      <td>considering</td>\n",
       "      <td>0</td>\n",
       "    </tr>\n",
       "    <tr>\n",
       "      <th>3</th>\n",
       "      <td>0</td>\n",
       "      <td>159567</td>\n",
       "      <td>0</td>\n",
       "      <td>58</td>\n",
       "      <td>281969.0</td>\n",
       "      <td>634</td>\n",
       "      <td>1</td>\n",
       "      <td>very_unsat</td>\n",
       "      <td>never_thought</td>\n",
       "      <td>0</td>\n",
       "    </tr>\n",
       "    <tr>\n",
       "      <th>4</th>\n",
       "      <td>1</td>\n",
       "      <td>23392</td>\n",
       "      <td>0</td>\n",
       "      <td>0</td>\n",
       "      <td>216707.0</td>\n",
       "      <td>233</td>\n",
       "      <td>15</td>\n",
       "      <td>unsat</td>\n",
       "      <td>no</td>\n",
       "      <td>1</td>\n",
       "    </tr>\n",
       "    <tr>\n",
       "      <th>5</th>\n",
       "      <td>1</td>\n",
       "      <td>119591</td>\n",
       "      <td>0</td>\n",
       "      <td>43</td>\n",
       "      <td>231309.0</td>\n",
       "      <td>714</td>\n",
       "      <td>1</td>\n",
       "      <td>very_sat</td>\n",
       "      <td>considering</td>\n",
       "      <td>0</td>\n",
       "    </tr>\n",
       "    <tr>\n",
       "      <th>6</th>\n",
       "      <td>1</td>\n",
       "      <td>99548</td>\n",
       "      <td>235</td>\n",
       "      <td>0</td>\n",
       "      <td>238561.0</td>\n",
       "      <td>294</td>\n",
       "      <td>6</td>\n",
       "      <td>very_unsat</td>\n",
       "      <td>actively_looking_into_it</td>\n",
       "      <td>1</td>\n",
       "    </tr>\n",
       "    <tr>\n",
       "      <th>7</th>\n",
       "      <td>1</td>\n",
       "      <td>63338</td>\n",
       "      <td>50</td>\n",
       "      <td>57</td>\n",
       "      <td>394791.0</td>\n",
       "      <td>362</td>\n",
       "      <td>1</td>\n",
       "      <td>sat</td>\n",
       "      <td>no</td>\n",
       "      <td>0</td>\n",
       "    </tr>\n",
       "    <tr>\n",
       "      <th>8</th>\n",
       "      <td>1</td>\n",
       "      <td>133496</td>\n",
       "      <td>163</td>\n",
       "      <td>11</td>\n",
       "      <td>166179.0</td>\n",
       "      <td>864</td>\n",
       "      <td>5</td>\n",
       "      <td>NaN</td>\n",
       "      <td>actively_looking_into_it</td>\n",
       "      <td>1</td>\n",
       "    </tr>\n",
       "    <tr>\n",
       "      <th>9</th>\n",
       "      <td>1</td>\n",
       "      <td>155145</td>\n",
       "      <td>29</td>\n",
       "      <td>18</td>\n",
       "      <td>717451.0</td>\n",
       "      <td>671</td>\n",
       "      <td>4</td>\n",
       "      <td>unsat</td>\n",
       "      <td>considering</td>\n",
       "      <td>0</td>\n",
       "    </tr>\n",
       "  </tbody>\n",
       "</table>\n",
       "</div>"
      ],
      "text/plain": [
       "   COLLEGE  INCOME  OVERAGE  LEFTOVER     HOUSE  HANDSET_PRICE  \\\n",
       "0        1   47711      183        17  730589.0            192   \n",
       "1        0   74132      191        43  535092.0            349   \n",
       "2        1  150419        0        14  204004.0            682   \n",
       "3        0  159567        0        58  281969.0            634   \n",
       "4        1   23392        0         0  216707.0            233   \n",
       "5        1  119591        0        43  231309.0            714   \n",
       "6        1   99548      235         0  238561.0            294   \n",
       "7        1   63338       50        57  394791.0            362   \n",
       "8        1  133496      163        11  166179.0            864   \n",
       "9        1  155145       29        18  717451.0            671   \n",
       "\n",
       "   AVERAGE_CALL_DURATION REPORTED_SATISFACTION CONSIDERING_CHANGE_OF_PLAN  \\\n",
       "0                      5                 unsat                considering   \n",
       "1                      2                 unsat                         no   \n",
       "2                      6                 unsat                considering   \n",
       "3                      1            very_unsat              never_thought   \n",
       "4                     15                 unsat                         no   \n",
       "5                      1              very_sat                considering   \n",
       "6                      6            very_unsat   actively_looking_into_it   \n",
       "7                      1                   sat                         no   \n",
       "8                      5                   NaN   actively_looking_into_it   \n",
       "9                      4                 unsat                considering   \n",
       "\n",
       "   CHURN  \n",
       "0      0  \n",
       "1      1  \n",
       "2      0  \n",
       "3      0  \n",
       "4      1  \n",
       "5      0  \n",
       "6      1  \n",
       "7      0  \n",
       "8      1  \n",
       "9      0  "
      ]
     },
     "execution_count": 66,
     "metadata": {},
     "output_type": "execute_result"
    }
   ],
   "source": [
    "mobile.head(10)"
   ]
  },
  {
   "cell_type": "markdown",
   "metadata": {
    "id": "LKhKlHlHEmOM"
   },
   "source": [
    "⑤ 분포  "
   ]
  },
  {
   "cell_type": "code",
   "execution_count": 67,
   "metadata": {},
   "outputs": [
    {
     "name": "stderr",
     "output_type": "stream",
     "text": [
      "C:\\Users\\User\\anaconda3\\lib\\site-packages\\seaborn\\_decorators.py:36: FutureWarning: Pass the following variable as a keyword arg: x. From version 0.12, the only valid positional argument will be `data`, and passing other arguments without an explicit keyword will result in an error or misinterpretation.\n",
      "  warnings.warn(\n"
     ]
    },
    {
     "data": {
      "image/png": "[encoded data removed]",
      "text/plain": [
       "<Figure size 432x288 with 1 Axes>"
      ]
     },
     "metadata": {
      "needs_background": "light"
     },
     "output_type": "display_data"
    }
   ],
   "source": [
    "sns.countplot(mobile['CONSIDERING_CHANGE_OF_PLAN'], \n",
    "              order = ['never_thought', 'no', 'perhaps', 'considering', 'actively_looking_into_it'])\n",
    "plt.show()"
   ]
  },
  {
   "cell_type": "markdown",
   "metadata": {
    "id": "wwaJxVOAEmOM"
   },
   "source": [
    "⑥ 위 정보로부터 파악한 내용(비즈니스!) 정리 "
   ]
  },
  {
   "cell_type": "markdown",
   "metadata": {},
   "source": [
    "* 고려해본다는 설문이 가장 많으며 절대 안바꾼다는 비율이 현저히 낮음"
   ]
  },
  {
   "cell_type": "markdown",
   "metadata": {
    "id": "QVzAdTHyEmON"
   },
   "source": [
    "⑦ 추가 분석해볼 사항 도출"
   ]
  },
  {
   "cell_type": "markdown",
   "metadata": {},
   "source": [
    "* considering, actively_looking_into_it의 비율이 가장 높으므로 이 안에서 그 이유를 분석해야 함"
   ]
  },
  {
   "cell_type": "markdown",
   "metadata": {
    "id": "ZghJJ7yLEpDA"
   },
   "source": [
    "## 3.이변량 분석 \n",
    "* 자료의 종류에 맞게 X --> Y 에 대해서 그래프(시각화)와 가설검정(수치화)를 수행하고 결과를 평가합니다.\n",
    "* 가설검정시 다음의 항목을 참조하여 수행합니다.\n",
    "    * 유의수준 : 5%\n",
    "    * 숫자 --> 숫자 : 상관분석\n",
    "    * 범주 --> 범주 : 카이제곱검정\n",
    "    * 범주 --> 숫자 : t검정, 분산분석\n",
    "    * 숫자 --> 범주 : 로지스틱 회귀모형을 통해, 회귀계수의 P.value로 검정을 수행합니다.\n"
   ]
  },
  {
   "cell_type": "code",
   "execution_count": 4,
   "metadata": {
    "id": "qiWKeotjGkLp"
   },
   "outputs": [],
   "source": [
    "target = 'CHURN'"
   ]
  },
  {
   "cell_type": "markdown",
   "metadata": {
    "id": "fap08wfEMqtY"
   },
   "source": [
    "### (1) 범주형 Feature --> CHURN\n",
    "* 모든 범주형 Feature에 대해서 Y와 비교하여 차트를 그리고 수치화 하시오.  \n",
    "    ① 교차표(pd.crosstab())  \n",
    "    ② 시각화( Stacked Bar, Mosaic)  \n",
    "    ③ 가설검정(카이제곱검정)\n",
    "* 각 feature 별로 관계의 정도를 3가지로 정리해봅시다. "
   ]
  },
  {
   "cell_type": "markdown",
   "metadata": {
    "id": "Dh2UW7_S-yoq"
   },
   "source": [
    "#### 1) COLLEGE --> CHURN"
   ]
  },
  {
   "cell_type": "code",
   "execution_count": 30,
   "metadata": {
    "id": "EWXtZEr_X0ok"
   },
   "outputs": [
    {
     "data": {
      "text/html": [
       "<div>\n",
       "<style scoped>\n",
       "    .dataframe tbody tr th:only-of-type {\n",
       "        vertical-align: middle;\n",
       "    }\n",
       "\n",
       "    .dataframe tbody tr th {\n",
       "        vertical-align: top;\n",
       "    }\n",
       "\n",
       "    .dataframe thead th {\n",
       "        text-align: right;\n",
       "    }\n",
       "</style>\n",
       "<table border=\"1\" class=\"dataframe\">\n",
       "  <thead>\n",
       "    <tr style=\"text-align: right;\">\n",
       "      <th>COLLEGE</th>\n",
       "      <th>0</th>\n",
       "      <th>1</th>\n",
       "    </tr>\n",
       "    <tr>\n",
       "      <th>CHURN</th>\n",
       "      <th></th>\n",
       "      <th></th>\n",
       "    </tr>\n",
       "  </thead>\n",
       "  <tbody>\n",
       "    <tr>\n",
       "      <th>0</th>\n",
       "      <td>4616</td>\n",
       "      <td>4515</td>\n",
       "    </tr>\n",
       "    <tr>\n",
       "      <th>1</th>\n",
       "      <td>4335</td>\n",
       "      <td>4534</td>\n",
       "    </tr>\n",
       "  </tbody>\n",
       "</table>\n",
       "</div>"
      ],
      "text/plain": [
       "COLLEGE     0     1\n",
       "CHURN              \n",
       "0        4616  4515\n",
       "1        4335  4534"
      ]
     },
     "execution_count": 30,
     "metadata": {},
     "output_type": "execute_result"
    }
   ],
   "source": [
    "pd.crosstab(mobile[target], mobile['COLLEGE'])"
   ]
  },
  {
   "cell_type": "code",
   "execution_count": 32,
   "metadata": {
    "id": "T1VEUO2DFQZd"
   },
   "outputs": [
    {
     "name": "stdout",
     "output_type": "stream",
     "text": [
      "CHURN           0         1\n",
      "COLLEGE                    \n",
      "0        0.515697  0.484303\n",
      "1        0.498950  0.501050\n"
     ]
    },
    {
     "data": {
      "image/png": "[encoded data removed]",
      "text/plain": [
       "<Figure size 432x288 with 1 Axes>"
      ]
     },
     "metadata": {
      "needs_background": "light"
     },
     "output_type": "display_data"
    }
   ],
   "source": [
    "temp = pd.crosstab(mobile['COLLEGE'], mobile[target], normalize = 'index')\n",
    "print(temp)\n",
    "temp.plot.bar(stacked=True)\n",
    "plt.axhline(1-mobile[target].mean(), color = 'r')\n",
    "plt.show()"
   ]
  },
  {
   "cell_type": "code",
   "execution_count": 33,
   "metadata": {
    "id": "iRNinsgWFQGF"
   },
   "outputs": [
    {
     "data": {
      "image/png": "[encoded data removed]",
      "text/plain": [
       "<Figure size 432x288 with 3 Axes>"
      ]
     },
     "metadata": {
      "needs_background": "light"
     },
     "output_type": "display_data"
    }
   ],
   "source": [
    "mosaic(mobile, [ 'COLLEGE',target])\n",
    "plt.axhline(1- mobile[target].mean(), color = 'r')\n",
    "plt.show()"
   ]
  },
  {
   "cell_type": "code",
   "execution_count": 34,
   "metadata": {
    "id": "rnJwF8-dFQCg"
   },
   "outputs": [
    {
     "name": "stdout",
     "output_type": "stream",
     "text": [
      "교차표\n",
      " COLLEGE     0     1\n",
      "CHURN              \n",
      "0        4616  4515\n",
      "1        4335  4534\n",
      "----------------------------------------------------------------------------------------------------\n",
      "카이제곱통계량 4.982102934693503\n",
      "p-value 0.025610833478220536\n",
      "기대빈도\n",
      " [[4540.64338889 4590.35661111]\n",
      " [4410.35661111 4458.64338889]]\n"
     ]
    }
   ],
   "source": [
    "# 먼저 집계\n",
    "table = pd.crosstab(mobile[target], mobile['COLLEGE'])\n",
    "print('교차표\\n', table)\n",
    "print('-' * 100)\n",
    "\n",
    "# 카이제곱검정\n",
    "result = spst.chi2_contingency(table)\n",
    "print('카이제곱통계량', result[0])\n",
    "print('p-value', result[1])\n",
    "print('기대빈도\\n',result[3])"
   ]
  },
  {
   "cell_type": "markdown",
   "metadata": {},
   "source": [
    "### < 파악한 내용>"
   ]
  },
  {
   "cell_type": "markdown",
   "metadata": {},
   "source": [
    "- 자유도가 1인 것에 2 ~ 3배인 2 ~ 3 보다는 카이제곱통계량이 높고 pvalue도 0.05 보다 낮은것으로 보아 관계는 있지만 그래프상으로 보면 약한 관계인 것으로 보임\n"
   ]
  },
  {
   "cell_type": "markdown",
   "metadata": {
    "id": "4Xeo68yeLU98"
   },
   "source": [
    "#### 2) REPORTED_SATISFACTION --> CHURN"
   ]
  },
  {
   "cell_type": "code",
   "execution_count": 35,
   "metadata": {
    "id": "rA7_WcWzLU-E"
   },
   "outputs": [
    {
     "data": {
      "text/html": [
       "<div>\n",
       "<style scoped>\n",
       "    .dataframe tbody tr th:only-of-type {\n",
       "        vertical-align: middle;\n",
       "    }\n",
       "\n",
       "    .dataframe tbody tr th {\n",
       "        vertical-align: top;\n",
       "    }\n",
       "\n",
       "    .dataframe thead th {\n",
       "        text-align: right;\n",
       "    }\n",
       "</style>\n",
       "<table border=\"1\" class=\"dataframe\">\n",
       "  <thead>\n",
       "    <tr style=\"text-align: right;\">\n",
       "      <th>REPORTED_SATISFACTION</th>\n",
       "      <th>avg</th>\n",
       "      <th>sat</th>\n",
       "      <th>unsat</th>\n",
       "      <th>very_sat</th>\n",
       "      <th>very_unsat</th>\n",
       "    </tr>\n",
       "    <tr>\n",
       "      <th>CHURN</th>\n",
       "      <th></th>\n",
       "      <th></th>\n",
       "      <th></th>\n",
       "      <th></th>\n",
       "      <th></th>\n",
       "    </tr>\n",
       "  </thead>\n",
       "  <tbody>\n",
       "    <tr>\n",
       "      <th>0</th>\n",
       "      <td>952</td>\n",
       "      <td>492</td>\n",
       "      <td>1792</td>\n",
       "      <td>2334</td>\n",
       "      <td>3543</td>\n",
       "    </tr>\n",
       "    <tr>\n",
       "      <th>1</th>\n",
       "      <td>854</td>\n",
       "      <td>440</td>\n",
       "      <td>1798</td>\n",
       "      <td>2228</td>\n",
       "      <td>3529</td>\n",
       "    </tr>\n",
       "  </tbody>\n",
       "</table>\n",
       "</div>"
      ],
      "text/plain": [
       "REPORTED_SATISFACTION  avg  sat  unsat  very_sat  very_unsat\n",
       "CHURN                                                       \n",
       "0                      952  492   1792      2334        3543\n",
       "1                      854  440   1798      2228        3529"
      ]
     },
     "execution_count": 35,
     "metadata": {},
     "output_type": "execute_result"
    }
   ],
   "source": [
    "pd.crosstab(mobile[target], mobile['REPORTED_SATISFACTION'])"
   ]
  },
  {
   "cell_type": "code",
   "execution_count": 36,
   "metadata": {
    "id": "3ZYBcWJ8FSNv"
   },
   "outputs": [
    {
     "name": "stdout",
     "output_type": "stream",
     "text": [
      "CHURN                         0         1\n",
      "REPORTED_SATISFACTION                    \n",
      "avg                    0.527132  0.472868\n",
      "sat                    0.527897  0.472103\n",
      "unsat                  0.499164  0.500836\n",
      "very_sat               0.511618  0.488382\n",
      "very_unsat             0.500990  0.499010\n"
     ]
    },
    {
     "data": {
      "image/png": "[encoded data removed]",
      "text/plain": [
       "<Figure size 432x288 with 1 Axes>"
      ]
     },
     "metadata": {
      "needs_background": "light"
     },
     "output_type": "display_data"
    }
   ],
   "source": [
    "temp = pd.crosstab(mobile['REPORTED_SATISFACTION'], mobile[target], normalize = 'index')\n",
    "print(temp)\n",
    "temp.plot.bar(stacked=True)\n",
    "plt.axhline(1-mobile[target].mean(), color = 'r')\n",
    "plt.show()"
   ]
  },
  {
   "cell_type": "code",
   "execution_count": 37,
   "metadata": {
    "id": "H8r6fiOjFSKP"
   },
   "outputs": [
    {
     "data": {
      "image/png": "[encoded data removed]",
      "text/plain": [
       "<Figure size 432x288 with 3 Axes>"
      ]
     },
     "metadata": {
      "needs_background": "light"
     },
     "output_type": "display_data"
    }
   ],
   "source": [
    "mosaic(mobile, [ 'REPORTED_SATISFACTION',target])\n",
    "plt.axhline(1- mobile[target].mean(), color = 'r')\n",
    "plt.show()"
   ]
  },
  {
   "cell_type": "code",
   "execution_count": 38,
   "metadata": {
    "id": "-lZ7bHbDFSG-"
   },
   "outputs": [
    {
     "name": "stdout",
     "output_type": "stream",
     "text": [
      "교차표\n",
      " REPORTED_SATISFACTION  avg  sat  unsat  very_sat  very_unsat\n",
      "CHURN                                                       \n",
      "0                      952  492   1792      2334        3543\n",
      "1                      854  440   1798      2228        3529\n",
      "----------------------------------------------------------------------------------------------------\n",
      "카이제곱통계량 6.8411009572056445\n",
      "p-value 0.14452738878905066\n",
      "기대빈도\n",
      " [[ 916.27201871  472.84912593 1821.38236277 2314.5254426  3587.97104999]\n",
      " [ 889.72798129  459.15087407 1768.61763723 2247.4745574  3484.02895001]]\n"
     ]
    }
   ],
   "source": [
    "# 먼저 집계\n",
    "table = pd.crosstab(mobile[target], mobile['REPORTED_SATISFACTION'])\n",
    "print('교차표\\n', table)\n",
    "print('-' * 100)\n",
    "\n",
    "# 카이제곱검정\n",
    "result = spst.chi2_contingency(table)\n",
    "print('카이제곱통계량', result[0])\n",
    "print('p-value', result[1])\n",
    "print('기대빈도\\n',result[3])"
   ]
  },
  {
   "cell_type": "markdown",
   "metadata": {
    "id": "zMUj1rePFSDg"
   },
   "source": [
    "### < 파악한 내용>"
   ]
  },
  {
   "cell_type": "markdown",
   "metadata": {},
   "source": [
    "- 자유도가 4인 것에 2~3배인 8 ~ 12 보다는 카이제곱통계량이 낮고 pvalue도 0.05 보다 높은것으로 보아 관계가 없는 것으로 보임\n",
    "- 또한 그래프나 차트에서도 평균값에 다 근처하기 때문에 관계가 없음\n",
    "- 하지만 설문 응답 결과를 범주로 나누어 분석 해볼 필요가 있어보임"
   ]
  },
  {
   "cell_type": "markdown",
   "metadata": {
    "id": "bdWZCugILZAz"
   },
   "source": [
    "#### 3) CONSIDERING_CHANGE_OF_PLAN --> CHURN"
   ]
  },
  {
   "cell_type": "code",
   "execution_count": 39,
   "metadata": {
    "id": "H7UDK6CKLZAz"
   },
   "outputs": [
    {
     "data": {
      "text/html": [
       "<div>\n",
       "<style scoped>\n",
       "    .dataframe tbody tr th:only-of-type {\n",
       "        vertical-align: middle;\n",
       "    }\n",
       "\n",
       "    .dataframe tbody tr th {\n",
       "        vertical-align: top;\n",
       "    }\n",
       "\n",
       "    .dataframe thead th {\n",
       "        text-align: right;\n",
       "    }\n",
       "</style>\n",
       "<table border=\"1\" class=\"dataframe\">\n",
       "  <thead>\n",
       "    <tr style=\"text-align: right;\">\n",
       "      <th>CONSIDERING_CHANGE_OF_PLAN</th>\n",
       "      <th>actively_looking_into_it</th>\n",
       "      <th>considering</th>\n",
       "      <th>never_thought</th>\n",
       "      <th>no</th>\n",
       "      <th>perhaps</th>\n",
       "    </tr>\n",
       "    <tr>\n",
       "      <th>CHURN</th>\n",
       "      <th></th>\n",
       "      <th></th>\n",
       "      <th></th>\n",
       "      <th></th>\n",
       "      <th></th>\n",
       "    </tr>\n",
       "  </thead>\n",
       "  <tbody>\n",
       "    <tr>\n",
       "      <th>0</th>\n",
       "      <td>2278</td>\n",
       "      <td>3648</td>\n",
       "      <td>926</td>\n",
       "      <td>1823</td>\n",
       "      <td>456</td>\n",
       "    </tr>\n",
       "    <tr>\n",
       "      <th>1</th>\n",
       "      <td>2175</td>\n",
       "      <td>3493</td>\n",
       "      <td>878</td>\n",
       "      <td>1821</td>\n",
       "      <td>502</td>\n",
       "    </tr>\n",
       "  </tbody>\n",
       "</table>\n",
       "</div>"
      ],
      "text/plain": [
       "CONSIDERING_CHANGE_OF_PLAN  actively_looking_into_it  considering  \\\n",
       "CHURN                                                               \n",
       "0                                               2278         3648   \n",
       "1                                               2175         3493   \n",
       "\n",
       "CONSIDERING_CHANGE_OF_PLAN  never_thought    no  perhaps  \n",
       "CHURN                                                     \n",
       "0                                     926  1823      456  \n",
       "1                                     878  1821      502  "
      ]
     },
     "execution_count": 39,
     "metadata": {},
     "output_type": "execute_result"
    }
   ],
   "source": [
    "pd.crosstab(mobile[target], mobile['CONSIDERING_CHANGE_OF_PLAN'])"
   ]
  },
  {
   "cell_type": "code",
   "execution_count": 40,
   "metadata": {
    "id": "yzB6q17JFUu2"
   },
   "outputs": [
    {
     "name": "stdout",
     "output_type": "stream",
     "text": [
      "CHURN                              0         1\n",
      "CONSIDERING_CHANGE_OF_PLAN                    \n",
      "actively_looking_into_it    0.511565  0.488435\n",
      "considering                 0.510853  0.489147\n",
      "never_thought               0.513304  0.486696\n",
      "no                          0.500274  0.499726\n",
      "perhaps                     0.475992  0.524008\n"
     ]
    },
    {
     "data": {
      "image/png": "[encoded data removed]",
      "text/plain": [
       "<Figure size 432x288 with 1 Axes>"
      ]
     },
     "metadata": {
      "needs_background": "light"
     },
     "output_type": "display_data"
    }
   ],
   "source": [
    "temp = pd.crosstab(mobile['CONSIDERING_CHANGE_OF_PLAN'], mobile[target], normalize = 'index')\n",
    "print(temp)\n",
    "temp.plot.bar(stacked=True)\n",
    "plt.axhline(1-mobile[target].mean(), color = 'r')\n",
    "plt.show()"
   ]
  },
  {
   "cell_type": "code",
   "execution_count": 41,
   "metadata": {
    "id": "yruN2nAbFUhU"
   },
   "outputs": [
    {
     "data": {
      "image/png": "[encoded data removed]",
      "text/plain": [
       "<Figure size 432x288 with 3 Axes>"
      ]
     },
     "metadata": {
      "needs_background": "light"
     },
     "output_type": "display_data"
    }
   ],
   "source": [
    "mosaic(mobile, [ 'CONSIDERING_CHANGE_OF_PLAN',target])\n",
    "plt.axhline(1- mobile[target].mean(), color = 'r')\n",
    "plt.show()"
   ]
  },
  {
   "cell_type": "code",
   "execution_count": 42,
   "metadata": {
    "id": "a0RGyObLFUdu"
   },
   "outputs": [
    {
     "name": "stdout",
     "output_type": "stream",
     "text": [
      "교차표\n",
      " CONSIDERING_CHANGE_OF_PLAN  actively_looking_into_it  considering  \\\n",
      "CHURN                                                               \n",
      "0                                               2278         3648   \n",
      "1                                               2175         3493   \n",
      "\n",
      "CONSIDERING_CHANGE_OF_PLAN  never_thought    no  perhaps  \n",
      "CHURN                                                     \n",
      "0                                     926  1823      456  \n",
      "1                                     878  1821      502  \n",
      "----------------------------------------------------------------------------------------------------\n",
      "카이제곱통계량 5.421434419620689\n",
      "p-value 0.2467222586679969\n",
      "기대빈도\n",
      " [[2258.90794444 3622.47061111  915.12911111 1848.52022222  485.97211111]\n",
      " [2194.09205556 3518.52938889  888.87088889 1795.47977778  472.02788889]]\n"
     ]
    }
   ],
   "source": [
    "# 먼저 집계\n",
    "table = pd.crosstab(mobile[target], mobile['CONSIDERING_CHANGE_OF_PLAN'])\n",
    "print('교차표\\n', table)\n",
    "print('-' * 100)\n",
    "\n",
    "# 카이제곱검정\n",
    "result = spst.chi2_contingency(table)\n",
    "print('카이제곱통계량', result[0])\n",
    "print('p-value', result[1])\n",
    "print('기대빈도\\n',result[3])"
   ]
  },
  {
   "cell_type": "markdown",
   "metadata": {
    "id": "vWedSkNoFUak"
   },
   "source": [
    "### < 파악한 내용>"
   ]
  },
  {
   "cell_type": "markdown",
   "metadata": {},
   "source": [
    "- 자유도가 4인 것에 2~3배인 8 ~ 12 보다는 카이제곱통계량이 낮고 pvalue도 0.05 보다 높은것으로 보아 관계가 없는 것으로 보임\n",
    "\n",
    "- 또한 그래프나 차트에서도 평균값에 다 근처하기 때문에 관계가 없음\n",
    "\n",
    "- 하지만 모든 설문에 관계가 없는게 이상하기 때문에 범주를 나누어 분석해볼 필요가 있음"
   ]
  },
  {
   "cell_type": "markdown",
   "metadata": {
    "id": "6ks7Mts5ZOIO"
   },
   "source": [
    "#### 4) feature --> CHURN"
   ]
  },
  {
   "cell_type": "code",
   "execution_count": null,
   "metadata": {
    "id": "7vueK_Q2ZOIO"
   },
   "outputs": [],
   "source": []
  },
  {
   "cell_type": "code",
   "execution_count": null,
   "metadata": {
    "id": "ImB9bLtbZOIO"
   },
   "outputs": [],
   "source": []
  },
  {
   "cell_type": "code",
   "execution_count": null,
   "metadata": {
    "id": "a9cd7QE4ZOIO"
   },
   "outputs": [],
   "source": []
  },
  {
   "cell_type": "code",
   "execution_count": null,
   "metadata": {
    "id": "7WEnk6KAZOIO"
   },
   "outputs": [],
   "source": []
  },
  {
   "cell_type": "code",
   "execution_count": null,
   "metadata": {
    "id": "N8r5_bWEZOIO"
   },
   "outputs": [],
   "source": []
  },
  {
   "cell_type": "markdown",
   "metadata": {
    "id": "lUsQ0iBHMqte"
   },
   "source": [
    "### (2) 숫자형 Feature --> CHURN\n",
    "\n",
    "* 숫자형 Feature에 대해서 Y와 비교하여 차트를 그리고 수치화 하시오.  \n",
    "    ① 그래프 : histogram, densityplot   \n",
    "    ② 수치화 : 로지스틱회귀"
   ]
  },
  {
   "cell_type": "markdown",
   "metadata": {
    "id": "F_Mugk3f_y3X"
   },
   "source": [
    "#### 1) INCOME --> CHURN\n"
   ]
  },
  {
   "cell_type": "code",
   "execution_count": 44,
   "metadata": {
    "id": "8ROLKtUueHSn"
   },
   "outputs": [
    {
     "data": {
      "image/png": "[encoded data removed]",
      "text/plain": [
       "<Figure size 432x288 with 1 Axes>"
      ]
     },
     "metadata": {
      "needs_background": "light"
     },
     "output_type": "display_data"
    }
   ],
   "source": [
    "sns.histplot(x='INCOME', data = mobile, bins = 12\n",
    "             , hue =target, multiple = 'fill')\n",
    "\n",
    "plt.axhline(mobile[target].mean(), color = 'r')\n",
    "plt.show()"
   ]
  },
  {
   "cell_type": "code",
   "execution_count": 45,
   "metadata": {
    "id": "pRhxayOcFdXb"
   },
   "outputs": [
    {
     "data": {
      "image/png": "[encoded data removed]",
      "text/plain": [
       "<Figure size 432x288 with 1 Axes>"
      ]
     },
     "metadata": {
      "needs_background": "light"
     },
     "output_type": "display_data"
    }
   ],
   "source": [
    "sns.kdeplot(x='INCOME', data = mobile, hue =target , common_norm = False)\n",
    "plt.show()"
   ]
  },
  {
   "cell_type": "code",
   "execution_count": 47,
   "metadata": {
    "id": "V716mlpmFdUE"
   },
   "outputs": [
    {
     "name": "stdout",
     "output_type": "stream",
     "text": [
      "Optimization terminated successfully.\n",
      "         Current function value: 0.692683\n",
      "         Iterations 2\n",
      "INCOME    0.000044\n",
      "dtype: float64\n"
     ]
    }
   ],
   "source": [
    "temp = mobile.loc[mobile['INCOME'].notnull()]\n",
    "\n",
    "model = sm.Logit(temp[target], temp['INCOME'])\n",
    "result = model.fit()\n",
    "print(result.pvalues)"
   ]
  },
  {
   "cell_type": "markdown",
   "metadata": {
    "id": "RGQGnk8JFdQf"
   },
   "source": [
    "### < 파악한 내용>"
   ]
  },
  {
   "cell_type": "markdown",
   "metadata": {},
   "source": [
    "- 수입이 100,000 전에는 이탈이 적었지만 100,000이후로 부터는 이탈이 더 많음\n",
    "- 그래서 100,000 을 기준으로 범주를 나누어 분석 해볼 필요가 있음\n",
    "- pvalue 값이 0.05 보단 작지만 많이 차이가 나지않고 그래프상으로 보면 관계는 있지만 약한 관계일 거라고 추정"
   ]
  },
  {
   "cell_type": "code",
   "execution_count": null,
   "metadata": {
    "id": "8z58caznFdNU"
   },
   "outputs": [],
   "source": []
  },
  {
   "cell_type": "markdown",
   "metadata": {
    "id": "QwikcGXELsny"
   },
   "source": [
    "#### 2) AVERAGE_CALL_DURATION --> CHURN\n"
   ]
  },
  {
   "cell_type": "code",
   "execution_count": 70,
   "metadata": {
    "id": "bGWLTAg9Lsny"
   },
   "outputs": [
    {
     "data": {
      "image/png": "[encoded data removed]",
      "text/plain": [
       "<Figure size 432x288 with 1 Axes>"
      ]
     },
     "metadata": {
      "needs_background": "light"
     },
     "output_type": "display_data"
    }
   ],
   "source": [
    "sns.histplot(x='AVERAGE_CALL_DURATION', data = mobile, bins = 15\n",
    "             , hue =target, multiple = 'fill')\n",
    "\n",
    "plt.axhline(mobile[target].mean(), color = 'r')\n",
    "plt.show()"
   ]
  },
  {
   "cell_type": "code",
   "execution_count": 68,
   "metadata": {
    "id": "R4crpBV9FfAM"
   },
   "outputs": [
    {
     "data": {
      "image/png": "[encoded data removed]",
      "text/plain": [
       "<Figure size 432x288 with 1 Axes>"
      ]
     },
     "metadata": {
      "needs_background": "light"
     },
     "output_type": "display_data"
    }
   ],
   "source": [
    "sns.kdeplot(x='AVERAGE_CALL_DURATION', data = mobile, hue =target , common_norm = False)\n",
    "plt.show()"
   ]
  },
  {
   "cell_type": "code",
   "execution_count": 69,
   "metadata": {
    "id": "Wk4QkkXyFe8_"
   },
   "outputs": [
    {
     "name": "stdout",
     "output_type": "stream",
     "text": [
      "Optimization terminated successfully.\n",
      "         Current function value: 0.693027\n",
      "         Iterations 3\n",
      "AVERAGE_CALL_DURATION    0.03783\n",
      "dtype: float64\n"
     ]
    }
   ],
   "source": [
    "temp = mobile.loc[mobile['AVERAGE_CALL_DURATION'].notnull()]\n",
    "\n",
    "model = sm.Logit(temp[target], temp['AVERAGE_CALL_DURATION'])\n",
    "result = model.fit()\n",
    "print(result.pvalues)"
   ]
  },
  {
   "cell_type": "markdown",
   "metadata": {
    "id": "V-ohsvLDFe5f"
   },
   "source": [
    "### < 파악한 내용>"
   ]
  },
  {
   "cell_type": "markdown",
   "metadata": {
    "id": "Ol5A6fIwFe2L"
   },
   "source": [
    "- 그래프 상으로 보면 크로스 되는 부분이 크게 3군데로 나뉘는데 이부분으로 범위를 나눌 필요가 있어보임\n",
    "- 0분에서 2.5분에는 이탈이 더 많지만, 2.5분 부터 7.5분까지는 이탈이 더 적음\n",
    "- pvalue 값이 0.05 보단 작지만 많이 차이가 나지않고 그래프상으로 보면 관계는 있지만 약한 관계일 거라고 추정"
   ]
  },
  {
   "cell_type": "markdown",
   "metadata": {
    "id": "KkyjTXOqLsyK"
   },
   "source": [
    "#### 3) HANDSET_PRICE --> CHURN\n"
   ]
  },
  {
   "cell_type": "code",
   "execution_count": 51,
   "metadata": {
    "id": "ZNHDXzGALsyK"
   },
   "outputs": [
    {
     "data": {
      "image/png": "[encoded data removed]",
      "text/plain": [
       "<Figure size 432x288 with 1 Axes>"
      ]
     },
     "metadata": {
      "needs_background": "light"
     },
     "output_type": "display_data"
    }
   ],
   "source": [
    "sns.histplot(x='HANDSET_PRICE', data = mobile, bins = 12\n",
    "             , hue =target, multiple = 'fill')\n",
    "\n",
    "plt.axhline(mobile[target].mean(), color = 'r')\n",
    "plt.show()\n"
   ]
  },
  {
   "cell_type": "code",
   "execution_count": 71,
   "metadata": {
    "id": "zdX0gPMOFggG"
   },
   "outputs": [
    {
     "data": {
      "image/png": "[encoded data removed]",
      "text/plain": [
       "<Figure size 432x288 with 1 Axes>"
      ]
     },
     "metadata": {
      "needs_background": "light"
     },
     "output_type": "display_data"
    }
   ],
   "source": [
    "sns.kdeplot(x='HANDSET_PRICE', data = mobile, hue =target , common_norm = False)\n",
    "plt.show()"
   ]
  },
  {
   "cell_type": "code",
   "execution_count": 72,
   "metadata": {
    "id": "Fb_Y9eIsFgc-"
   },
   "outputs": [
    {
     "name": "stdout",
     "output_type": "stream",
     "text": [
      "Optimization terminated successfully.\n",
      "         Current function value: 0.692730\n",
      "         Iterations 3\n",
      "HANDSET_PRICE    0.000107\n",
      "dtype: float64\n"
     ]
    }
   ],
   "source": [
    "temp = mobile.loc[mobile['HANDSET_PRICE'].notnull()]\n",
    "\n",
    "model = sm.Logit(temp[target], temp['HANDSET_PRICE'])\n",
    "result = model.fit()\n",
    "print(result.pvalues)"
   ]
  },
  {
   "cell_type": "markdown",
   "metadata": {
    "id": "FFVmR4hXFgaM"
   },
   "source": [
    "### < 파악한 내용>"
   ]
  },
  {
   "cell_type": "markdown",
   "metadata": {
    "id": "iosQzJv4FgXG"
   },
   "source": [
    "- 그래프 상으로 400달러를 기준으로 이탈률이 차이가 남\n",
    "- pvalue 값이 0.05 보단 작지만 많이 차이가 나지않고 그래프상으로 보면 관계는 있지만 약한 관계일 거라고 추정"
   ]
  },
  {
   "cell_type": "markdown",
   "metadata": {
    "id": "wv6nX82-ZIG4"
   },
   "source": [
    "#### 4) HOUSE --> CHURN\n"
   ]
  },
  {
   "cell_type": "code",
   "execution_count": 73,
   "metadata": {
    "id": "DNWTAgOAZIG5"
   },
   "outputs": [
    {
     "data": {
      "image/png": "[encoded data removed]",
      "text/plain": [
       "<Figure size 432x288 with 1 Axes>"
      ]
     },
     "metadata": {
      "needs_background": "light"
     },
     "output_type": "display_data"
    }
   ],
   "source": [
    "sns.histplot(x='HOUSE', data = mobile, bins = 12\n",
    "             , hue =target, multiple = 'fill')\n",
    "\n",
    "plt.axhline(mobile[target].mean(), color = 'r')\n",
    "plt.show()\n"
   ]
  },
  {
   "cell_type": "code",
   "execution_count": 74,
   "metadata": {
    "id": "sysFFUnCZIG5"
   },
   "outputs": [
    {
     "data": {
      "image/png": "[encoded data removed]",
      "text/plain": [
       "<Figure size 432x288 with 1 Axes>"
      ]
     },
     "metadata": {
      "needs_background": "light"
     },
     "output_type": "display_data"
    }
   ],
   "source": [
    "sns.kdeplot(x='HOUSE', data = mobile, hue =target , common_norm = False)\n",
    "plt.show()"
   ]
  },
  {
   "cell_type": "code",
   "execution_count": 75,
   "metadata": {
    "id": "vjHOKBRAZIG5"
   },
   "outputs": [
    {
     "name": "stdout",
     "output_type": "stream",
     "text": [
      "Optimization terminated successfully.\n",
      "         Current function value: 0.687266\n",
      "         Iterations 2\n",
      "HOUSE    6.401120e-47\n",
      "dtype: float64\n"
     ]
    }
   ],
   "source": [
    "temp = mobile.loc[mobile['HOUSE'].notnull()]\n",
    "\n",
    "model = sm.Logit(temp[target], temp['HOUSE'])\n",
    "result = model.fit()\n",
    "print(result.pvalues)"
   ]
  },
  {
   "cell_type": "markdown",
   "metadata": {
    "id": "toL7DMIPZIG5"
   },
   "source": [
    "### < 파악한 내용>"
   ]
  },
  {
   "cell_type": "markdown",
   "metadata": {
    "id": "4_SdzqpmZIG5"
   },
   "source": [
    "- 그래프 상으로 보면 집값이 대략 600,000달러를 기준으로 이탈률이 정 반대가 됨\n",
    "- 또한 각 부분마다 이탈률의 차이가 커서 관계가 강해보임\n",
    "- pvalue 값이 0에 수렴할 정도로 작고, 그래프상으로도 보면 관계가 강해보임"
   ]
  },
  {
   "cell_type": "markdown",
   "metadata": {
    "id": "wv6nX82-ZIG4"
   },
   "source": [
    "#### 5) OVERAGE --> CHURN\n"
   ]
  },
  {
   "cell_type": "code",
   "execution_count": 84,
   "metadata": {},
   "outputs": [
    {
     "data": {
      "image/png": "[encoded data removed]",
      "text/plain": [
       "<Figure size 432x288 with 1 Axes>"
      ]
     },
     "metadata": {
      "needs_background": "light"
     },
     "output_type": "display_data"
    }
   ],
   "source": [
    "sns.histplot(x='OVERAGE', data = mobile, bins = 12\n",
    "             , hue =target, multiple = 'fill')\n",
    "\n",
    "plt.axhline(mobile[target].mean(), color = 'r')\n",
    "plt.show()"
   ]
  },
  {
   "cell_type": "code",
   "execution_count": 85,
   "metadata": {},
   "outputs": [
    {
     "data": {
      "image/png": "[encoded data removed]",
      "text/plain": [
       "<Figure size 432x288 with 1 Axes>"
      ]
     },
     "metadata": {
      "needs_background": "light"
     },
     "output_type": "display_data"
    }
   ],
   "source": [
    "sns.kdeplot(x='OVERAGE', data = mobile, hue =target , common_norm = False)\n",
    "plt.show()"
   ]
  },
  {
   "cell_type": "code",
   "execution_count": 88,
   "metadata": {},
   "outputs": [
    {
     "name": "stdout",
     "output_type": "stream",
     "text": [
      "Optimization terminated successfully.\n",
      "         Current function value: 0.680553\n",
      "         Iterations 4\n",
      "OVERAGE    3.521095e-97\n",
      "dtype: float64\n"
     ]
    }
   ],
   "source": [
    "temp = mobile.loc[mobile['OVERAGE'].notnull()]\n",
    "\n",
    "model = sm.Logit(temp[target], temp['OVERAGE'])\n",
    "result = model.fit()\n",
    "print(result.pvalues)"
   ]
  },
  {
   "cell_type": "markdown",
   "metadata": {},
   "source": [
    "### < 파악한 내용>"
   ]
  },
  {
   "cell_type": "markdown",
   "metadata": {},
   "source": [
    "- 그래프 상으로 보면 집값이 대략 100분을 기준으로 이탈률이 상반 되는 결과가 보임\n",
    "- 또한 각 부분마다 이탈률의 차이가 커서 관계가 강해보임\n",
    "- pvalue 값이 0에 수렴할 정도로 작고, 그래프상으로도 보면 관계가 강해보임"
   ]
  },
  {
   "cell_type": "markdown",
   "metadata": {
    "id": "Jd4WbbU-jqU3"
   },
   "source": [
    "## 4.관계 정리"
   ]
  },
  {
   "cell_type": "markdown",
   "metadata": {
    "id": "bKmN0rtAjto6"
   },
   "source": [
    "### 1) 강한관계의 변수"
   ]
  },
  {
   "cell_type": "markdown",
   "metadata": {
    "id": "lx6Np73PL0YS"
   },
   "source": [
    "* HOUSE\t\t\n",
    "* OVERAGE"
   ]
  },
  {
   "cell_type": "markdown",
   "metadata": {
    "id": "u8B765zNjwp5"
   },
   "source": [
    "### 2) 약한관계의 변수"
   ]
  },
  {
   "cell_type": "markdown",
   "metadata": {
    "id": "kg8-QylzL1kE"
   },
   "source": [
    "* COLLEGE \n",
    "* INCOME\t\t\t\t\n",
    "* AVERAGE_CALL_DURATION\t\t\n",
    "* HANDSET_PRICE\t\t\t"
   ]
  },
  {
   "cell_type": "markdown",
   "metadata": {
    "id": "eYiQ9OUijwdq"
   },
   "source": [
    "### 3) 관계 없음"
   ]
  },
  {
   "cell_type": "markdown",
   "metadata": {
    "id": "K0o6lwH5L2Wj"
   },
   "source": [
    "* REPORTED_SATISFACTION\t\t\n",
    "* CONSIDERING_CHANGE_OF_PLAN\t"
   ]
  },
  {
   "cell_type": "markdown",
   "metadata": {
    "id": "nePF6KE6jlX6"
   },
   "source": [
    "## 5.추가 분석"
   ]
  },
  {
   "cell_type": "markdown",
   "metadata": {
    "id": "B8E9F24bkYTn"
   },
   "source": [
    "### 1) INCOME 범주로 나누어 분석"
   ]
  },
  {
   "cell_type": "code",
   "execution_count": 76,
   "metadata": {
    "id": "DUL6jc1SL5QL"
   },
   "outputs": [
    {
     "data": {
      "text/html": [
       "<div>\n",
       "<style scoped>\n",
       "    .dataframe tbody tr th:only-of-type {\n",
       "        vertical-align: middle;\n",
       "    }\n",
       "\n",
       "    .dataframe tbody tr th {\n",
       "        vertical-align: top;\n",
       "    }\n",
       "\n",
       "    .dataframe thead th {\n",
       "        text-align: right;\n",
       "    }\n",
       "</style>\n",
       "<table border=\"1\" class=\"dataframe\">\n",
       "  <thead>\n",
       "    <tr style=\"text-align: right;\">\n",
       "      <th></th>\n",
       "      <th>COLLEGE</th>\n",
       "      <th>INCOME</th>\n",
       "      <th>OVERAGE</th>\n",
       "      <th>LEFTOVER</th>\n",
       "      <th>HOUSE</th>\n",
       "      <th>HANDSET_PRICE</th>\n",
       "      <th>AVERAGE_CALL_DURATION</th>\n",
       "      <th>REPORTED_SATISFACTION</th>\n",
       "      <th>CONSIDERING_CHANGE_OF_PLAN</th>\n",
       "      <th>CHURN</th>\n",
       "      <th>Income_Group</th>\n",
       "    </tr>\n",
       "  </thead>\n",
       "  <tbody>\n",
       "    <tr>\n",
       "      <th>0</th>\n",
       "      <td>1</td>\n",
       "      <td>47711</td>\n",
       "      <td>183</td>\n",
       "      <td>17</td>\n",
       "      <td>730589.0</td>\n",
       "      <td>192</td>\n",
       "      <td>5</td>\n",
       "      <td>unsat</td>\n",
       "      <td>considering</td>\n",
       "      <td>0</td>\n",
       "      <td>LOW</td>\n",
       "    </tr>\n",
       "    <tr>\n",
       "      <th>1</th>\n",
       "      <td>0</td>\n",
       "      <td>74132</td>\n",
       "      <td>191</td>\n",
       "      <td>43</td>\n",
       "      <td>535092.0</td>\n",
       "      <td>349</td>\n",
       "      <td>2</td>\n",
       "      <td>unsat</td>\n",
       "      <td>no</td>\n",
       "      <td>1</td>\n",
       "      <td>LOW</td>\n",
       "    </tr>\n",
       "    <tr>\n",
       "      <th>2</th>\n",
       "      <td>1</td>\n",
       "      <td>150419</td>\n",
       "      <td>0</td>\n",
       "      <td>14</td>\n",
       "      <td>204004.0</td>\n",
       "      <td>682</td>\n",
       "      <td>6</td>\n",
       "      <td>unsat</td>\n",
       "      <td>considering</td>\n",
       "      <td>0</td>\n",
       "      <td>HIGH</td>\n",
       "    </tr>\n",
       "    <tr>\n",
       "      <th>3</th>\n",
       "      <td>0</td>\n",
       "      <td>159567</td>\n",
       "      <td>0</td>\n",
       "      <td>58</td>\n",
       "      <td>281969.0</td>\n",
       "      <td>634</td>\n",
       "      <td>1</td>\n",
       "      <td>very_unsat</td>\n",
       "      <td>never_thought</td>\n",
       "      <td>0</td>\n",
       "      <td>HIGH</td>\n",
       "    </tr>\n",
       "    <tr>\n",
       "      <th>4</th>\n",
       "      <td>1</td>\n",
       "      <td>23392</td>\n",
       "      <td>0</td>\n",
       "      <td>0</td>\n",
       "      <td>216707.0</td>\n",
       "      <td>233</td>\n",
       "      <td>15</td>\n",
       "      <td>unsat</td>\n",
       "      <td>no</td>\n",
       "      <td>1</td>\n",
       "      <td>LOW</td>\n",
       "    </tr>\n",
       "  </tbody>\n",
       "</table>\n",
       "</div>"
      ],
      "text/plain": [
       "   COLLEGE  INCOME  OVERAGE  LEFTOVER     HOUSE  HANDSET_PRICE  \\\n",
       "0        1   47711      183        17  730589.0            192   \n",
       "1        0   74132      191        43  535092.0            349   \n",
       "2        1  150419        0        14  204004.0            682   \n",
       "3        0  159567        0        58  281969.0            634   \n",
       "4        1   23392        0         0  216707.0            233   \n",
       "\n",
       "   AVERAGE_CALL_DURATION REPORTED_SATISFACTION CONSIDERING_CHANGE_OF_PLAN  \\\n",
       "0                      5                 unsat                considering   \n",
       "1                      2                 unsat                         no   \n",
       "2                      6                 unsat                considering   \n",
       "3                      1            very_unsat              never_thought   \n",
       "4                     15                 unsat                         no   \n",
       "\n",
       "   CHURN Income_Group  \n",
       "0      0          LOW  \n",
       "1      1          LOW  \n",
       "2      0         HIGH  \n",
       "3      0         HIGH  \n",
       "4      1          LOW  "
      ]
     },
     "execution_count": 76,
     "metadata": {},
     "output_type": "execute_result"
    }
   ],
   "source": [
    "bins = [0, 100000, np.inf]\n",
    "labels = ['LOW', 'HIGH' ]\n",
    "mobile['Income_Group'] = pd.cut(mobile['INCOME'], bins = bins , labels = labels\n",
    "                               , right = False)\n",
    "mobile.head()"
   ]
  },
  {
   "cell_type": "code",
   "execution_count": 78,
   "metadata": {
    "id": "rW-_G3TiL5HV"
   },
   "outputs": [
    {
     "data": {
      "image/png": "[encoded data removed]",
      "text/plain": [
       "<Figure size 432x288 with 1 Axes>"
      ]
     },
     "metadata": {
      "needs_background": "light"
     },
     "output_type": "display_data"
    },
    {
     "name": "stdout",
     "output_type": "stream",
     "text": [
      "카이제곱통계량 243.5094787317262\n",
      "p-value 6.753130507282287e-55\n"
     ]
    }
   ],
   "source": [
    "temp = pd.crosstab(mobile['Income_Group'], mobile[target], normalize = 'index')\n",
    "temp.plot.bar(stacked=True)\n",
    "plt.axhline(1-mobile[target].mean(), color = 'r')\n",
    "plt.show()\n",
    "\n",
    "table = pd.crosstab(mobile[target], mobile['Income_Group'])\n",
    "result = spst.chi2_contingency(table)\n",
    "print('카이제곱통계량', result[0])\n",
    "print('p-value', result[1])"
   ]
  },
  {
   "cell_type": "code",
   "execution_count": 79,
   "metadata": {},
   "outputs": [
    {
     "data": {
      "image/png": "[encoded data removed]",
      "text/plain": [
       "<Figure size 432x288 with 3 Axes>"
      ]
     },
     "metadata": {
      "needs_background": "light"
     },
     "output_type": "display_data"
    }
   ],
   "source": [
    "mosaic(mobile, [ 'Income_Group',target])\n",
    "plt.axhline(1- mobile[target].mean(), color = 'r')\n",
    "plt.show()"
   ]
  },
  {
   "cell_type": "markdown",
   "metadata": {},
   "source": [
    "### <파악한 내용>"
   ]
  },
  {
   "cell_type": "markdown",
   "metadata": {},
   "source": [
    "* 숫자로 된것을 범주로 바꾸어 카이제곱 통계량을 살펴본 결과 자유도가 1인데 비해 243이라는 높은 수치를 나타내었고, pvalue도 0.05보다 현저히 작은 것을 보아 중간 관계라고 볼 수 있음"
   ]
  },
  {
   "cell_type": "markdown",
   "metadata": {},
   "source": [
    "### 2) 변경 계획 설문 심층 분석"
   ]
  },
  {
   "cell_type": "markdown",
   "metadata": {},
   "source": [
    "* never_thoght 라고 설문을 한 사람의 이탈률이 반반인지 데이터를 자세히 살표보았다"
   ]
  },
  {
   "cell_type": "code",
   "execution_count": 6,
   "metadata": {},
   "outputs": [
    {
     "data": {
      "text/html": [
       "<div>\n",
       "<style scoped>\n",
       "    .dataframe tbody tr th:only-of-type {\n",
       "        vertical-align: middle;\n",
       "    }\n",
       "\n",
       "    .dataframe tbody tr th {\n",
       "        vertical-align: top;\n",
       "    }\n",
       "\n",
       "    .dataframe thead th {\n",
       "        text-align: right;\n",
       "    }\n",
       "</style>\n",
       "<table border=\"1\" class=\"dataframe\">\n",
       "  <thead>\n",
       "    <tr style=\"text-align: right;\">\n",
       "      <th></th>\n",
       "      <th>COLLEGE</th>\n",
       "      <th>INCOME</th>\n",
       "      <th>OVERAGE</th>\n",
       "      <th>LEFTOVER</th>\n",
       "      <th>HOUSE</th>\n",
       "      <th>HANDSET_PRICE</th>\n",
       "      <th>AVERAGE_CALL_DURATION</th>\n",
       "      <th>REPORTED_SATISFACTION</th>\n",
       "      <th>CONSIDERING_CHANGE_OF_PLAN</th>\n",
       "      <th>CHURN</th>\n",
       "    </tr>\n",
       "  </thead>\n",
       "  <tbody>\n",
       "    <tr>\n",
       "      <th>3</th>\n",
       "      <td>0</td>\n",
       "      <td>159567</td>\n",
       "      <td>0</td>\n",
       "      <td>58</td>\n",
       "      <td>281969.0</td>\n",
       "      <td>634</td>\n",
       "      <td>1</td>\n",
       "      <td>very_unsat</td>\n",
       "      <td>never_thought</td>\n",
       "      <td>0</td>\n",
       "    </tr>\n",
       "    <tr>\n",
       "      <th>38</th>\n",
       "      <td>0</td>\n",
       "      <td>129806</td>\n",
       "      <td>0</td>\n",
       "      <td>15</td>\n",
       "      <td>345692.0</td>\n",
       "      <td>498</td>\n",
       "      <td>6</td>\n",
       "      <td>very_sat</td>\n",
       "      <td>never_thought</td>\n",
       "      <td>0</td>\n",
       "    </tr>\n",
       "    <tr>\n",
       "      <th>85</th>\n",
       "      <td>0</td>\n",
       "      <td>98987</td>\n",
       "      <td>226</td>\n",
       "      <td>24</td>\n",
       "      <td>523403.0</td>\n",
       "      <td>399</td>\n",
       "      <td>15</td>\n",
       "      <td>very_unsat</td>\n",
       "      <td>never_thought</td>\n",
       "      <td>1</td>\n",
       "    </tr>\n",
       "    <tr>\n",
       "      <th>88</th>\n",
       "      <td>1</td>\n",
       "      <td>64777</td>\n",
       "      <td>0</td>\n",
       "      <td>8</td>\n",
       "      <td>720317.0</td>\n",
       "      <td>289</td>\n",
       "      <td>6</td>\n",
       "      <td>very_sat</td>\n",
       "      <td>never_thought</td>\n",
       "      <td>0</td>\n",
       "    </tr>\n",
       "    <tr>\n",
       "      <th>105</th>\n",
       "      <td>1</td>\n",
       "      <td>157632</td>\n",
       "      <td>230</td>\n",
       "      <td>29</td>\n",
       "      <td>868015.0</td>\n",
       "      <td>839</td>\n",
       "      <td>6</td>\n",
       "      <td>unsat</td>\n",
       "      <td>never_thought</td>\n",
       "      <td>1</td>\n",
       "    </tr>\n",
       "    <tr>\n",
       "      <th>115</th>\n",
       "      <td>0</td>\n",
       "      <td>60641</td>\n",
       "      <td>33</td>\n",
       "      <td>0</td>\n",
       "      <td>987364.0</td>\n",
       "      <td>397</td>\n",
       "      <td>12</td>\n",
       "      <td>very_sat</td>\n",
       "      <td>never_thought</td>\n",
       "      <td>0</td>\n",
       "    </tr>\n",
       "    <tr>\n",
       "      <th>122</th>\n",
       "      <td>1</td>\n",
       "      <td>135177</td>\n",
       "      <td>38</td>\n",
       "      <td>0</td>\n",
       "      <td>214228.0</td>\n",
       "      <td>703</td>\n",
       "      <td>15</td>\n",
       "      <td>very_sat</td>\n",
       "      <td>never_thought</td>\n",
       "      <td>1</td>\n",
       "    </tr>\n",
       "    <tr>\n",
       "      <th>136</th>\n",
       "      <td>1</td>\n",
       "      <td>83731</td>\n",
       "      <td>69</td>\n",
       "      <td>19</td>\n",
       "      <td>526465.0</td>\n",
       "      <td>261</td>\n",
       "      <td>4</td>\n",
       "      <td>very_unsat</td>\n",
       "      <td>never_thought</td>\n",
       "      <td>0</td>\n",
       "    </tr>\n",
       "    <tr>\n",
       "      <th>161</th>\n",
       "      <td>1</td>\n",
       "      <td>69957</td>\n",
       "      <td>240</td>\n",
       "      <td>16</td>\n",
       "      <td>956392.0</td>\n",
       "      <td>345</td>\n",
       "      <td>5</td>\n",
       "      <td>very_sat</td>\n",
       "      <td>never_thought</td>\n",
       "      <td>0</td>\n",
       "    </tr>\n",
       "    <tr>\n",
       "      <th>164</th>\n",
       "      <td>0</td>\n",
       "      <td>36167</td>\n",
       "      <td>0</td>\n",
       "      <td>40</td>\n",
       "      <td>940806.0</td>\n",
       "      <td>174</td>\n",
       "      <td>2</td>\n",
       "      <td>very_unsat</td>\n",
       "      <td>never_thought</td>\n",
       "      <td>0</td>\n",
       "    </tr>\n",
       "  </tbody>\n",
       "</table>\n",
       "</div>"
      ],
      "text/plain": [
       "     COLLEGE  INCOME  OVERAGE  LEFTOVER     HOUSE  HANDSET_PRICE  \\\n",
       "3          0  159567        0        58  281969.0            634   \n",
       "38         0  129806        0        15  345692.0            498   \n",
       "85         0   98987      226        24  523403.0            399   \n",
       "88         1   64777        0         8  720317.0            289   \n",
       "105        1  157632      230        29  868015.0            839   \n",
       "115        0   60641       33         0  987364.0            397   \n",
       "122        1  135177       38         0  214228.0            703   \n",
       "136        1   83731       69        19  526465.0            261   \n",
       "161        1   69957      240        16  956392.0            345   \n",
       "164        0   36167        0        40  940806.0            174   \n",
       "\n",
       "     AVERAGE_CALL_DURATION REPORTED_SATISFACTION CONSIDERING_CHANGE_OF_PLAN  \\\n",
       "3                        1            very_unsat              never_thought   \n",
       "38                       6              very_sat              never_thought   \n",
       "85                      15            very_unsat              never_thought   \n",
       "88                       6              very_sat              never_thought   \n",
       "105                      6                 unsat              never_thought   \n",
       "115                     12              very_sat              never_thought   \n",
       "122                     15              very_sat              never_thought   \n",
       "136                      4            very_unsat              never_thought   \n",
       "161                      5              very_sat              never_thought   \n",
       "164                      2            very_unsat              never_thought   \n",
       "\n",
       "     CHURN  \n",
       "3        0  \n",
       "38       0  \n",
       "85       1  \n",
       "88       0  \n",
       "105      1  \n",
       "115      0  \n",
       "122      1  \n",
       "136      0  \n",
       "161      0  \n",
       "164      0  "
      ]
     },
     "execution_count": 6,
     "metadata": {},
     "output_type": "execute_result"
    }
   ],
   "source": [
    "temp = mobile.loc[mobile['CONSIDERING_CHANGE_OF_PLAN'] == 'never_thought']\n",
    "\n",
    "temp.head(10)"
   ]
  },
  {
   "cell_type": "code",
   "execution_count": 82,
   "metadata": {},
   "outputs": [
    {
     "data": {
      "text/plain": [
       "count    18000.000000\n",
       "mean        86.014833\n",
       "std         85.963981\n",
       "min         -2.000000\n",
       "25%          0.000000\n",
       "50%         59.000000\n",
       "75%        179.000000\n",
       "max        335.000000\n",
       "Name: OVERAGE, dtype: float64"
      ]
     },
     "execution_count": 82,
     "metadata": {},
     "output_type": "execute_result"
    }
   ],
   "source": [
    "mobile['OVERAGE'].describe()"
   ]
  },
  {
   "cell_type": "markdown",
   "metadata": {},
   "source": [
    "* 공통적으로 월 초과사용 시간이 평균값의 3배에 다다를 만큼 초과시간이 많음\n",
    "* --> 이 뜻은 초과 사용시간이 많아 다른 통신사의 요금제를 사용할 가능성이 높음!!"
   ]
  },
  {
   "cell_type": "code",
   "execution_count": 5,
   "metadata": {},
   "outputs": [
    {
     "data": {
      "text/html": [
       "<div>\n",
       "<style scoped>\n",
       "    .dataframe tbody tr th:only-of-type {\n",
       "        vertical-align: middle;\n",
       "    }\n",
       "\n",
       "    .dataframe tbody tr th {\n",
       "        vertical-align: top;\n",
       "    }\n",
       "\n",
       "    .dataframe thead th {\n",
       "        text-align: right;\n",
       "    }\n",
       "</style>\n",
       "<table border=\"1\" class=\"dataframe\">\n",
       "  <thead>\n",
       "    <tr style=\"text-align: right;\">\n",
       "      <th></th>\n",
       "      <th>COLLEGE</th>\n",
       "      <th>INCOME</th>\n",
       "      <th>OVERAGE</th>\n",
       "      <th>LEFTOVER</th>\n",
       "      <th>HOUSE</th>\n",
       "      <th>HANDSET_PRICE</th>\n",
       "      <th>AVERAGE_CALL_DURATION</th>\n",
       "      <th>REPORTED_SATISFACTION</th>\n",
       "      <th>CONSIDERING_CHANGE_OF_PLAN</th>\n",
       "      <th>CHURN</th>\n",
       "    </tr>\n",
       "  </thead>\n",
       "  <tbody>\n",
       "    <tr>\n",
       "      <th>6</th>\n",
       "      <td>1</td>\n",
       "      <td>99548</td>\n",
       "      <td>235</td>\n",
       "      <td>0</td>\n",
       "      <td>238561.0</td>\n",
       "      <td>294</td>\n",
       "      <td>6</td>\n",
       "      <td>very_unsat</td>\n",
       "      <td>actively_looking_into_it</td>\n",
       "      <td>1</td>\n",
       "    </tr>\n",
       "    <tr>\n",
       "      <th>8</th>\n",
       "      <td>1</td>\n",
       "      <td>133496</td>\n",
       "      <td>163</td>\n",
       "      <td>11</td>\n",
       "      <td>166179.0</td>\n",
       "      <td>864</td>\n",
       "      <td>5</td>\n",
       "      <td>NaN</td>\n",
       "      <td>actively_looking_into_it</td>\n",
       "      <td>1</td>\n",
       "    </tr>\n",
       "    <tr>\n",
       "      <th>14</th>\n",
       "      <td>1</td>\n",
       "      <td>39476</td>\n",
       "      <td>0</td>\n",
       "      <td>46</td>\n",
       "      <td>975301.0</td>\n",
       "      <td>132</td>\n",
       "      <td>2</td>\n",
       "      <td>very_sat</td>\n",
       "      <td>actively_looking_into_it</td>\n",
       "      <td>0</td>\n",
       "    </tr>\n",
       "    <tr>\n",
       "      <th>15</th>\n",
       "      <td>0</td>\n",
       "      <td>85246</td>\n",
       "      <td>0</td>\n",
       "      <td>12</td>\n",
       "      <td>864913.0</td>\n",
       "      <td>207</td>\n",
       "      <td>5</td>\n",
       "      <td>very_unsat</td>\n",
       "      <td>actively_looking_into_it</td>\n",
       "      <td>0</td>\n",
       "    </tr>\n",
       "    <tr>\n",
       "      <th>17</th>\n",
       "      <td>1</td>\n",
       "      <td>92778</td>\n",
       "      <td>0</td>\n",
       "      <td>0</td>\n",
       "      <td>564412.0</td>\n",
       "      <td>286</td>\n",
       "      <td>9</td>\n",
       "      <td>very_unsat</td>\n",
       "      <td>actively_looking_into_it</td>\n",
       "      <td>0</td>\n",
       "    </tr>\n",
       "    <tr>\n",
       "      <th>28</th>\n",
       "      <td>0</td>\n",
       "      <td>69417</td>\n",
       "      <td>52</td>\n",
       "      <td>88</td>\n",
       "      <td>686029.0</td>\n",
       "      <td>331</td>\n",
       "      <td>2</td>\n",
       "      <td>very_unsat</td>\n",
       "      <td>actively_looking_into_it</td>\n",
       "      <td>1</td>\n",
       "    </tr>\n",
       "    <tr>\n",
       "      <th>31</th>\n",
       "      <td>0</td>\n",
       "      <td>57157</td>\n",
       "      <td>41</td>\n",
       "      <td>74</td>\n",
       "      <td>248089.0</td>\n",
       "      <td>656</td>\n",
       "      <td>2</td>\n",
       "      <td>very_unsat</td>\n",
       "      <td>actively_looking_into_it</td>\n",
       "      <td>0</td>\n",
       "    </tr>\n",
       "    <tr>\n",
       "      <th>42</th>\n",
       "      <td>0</td>\n",
       "      <td>89152</td>\n",
       "      <td>230</td>\n",
       "      <td>0</td>\n",
       "      <td>605293.0</td>\n",
       "      <td>282</td>\n",
       "      <td>13</td>\n",
       "      <td>very_unsat</td>\n",
       "      <td>actively_looking_into_it</td>\n",
       "      <td>1</td>\n",
       "    </tr>\n",
       "    <tr>\n",
       "      <th>51</th>\n",
       "      <td>1</td>\n",
       "      <td>108123</td>\n",
       "      <td>0</td>\n",
       "      <td>0</td>\n",
       "      <td>987559.0</td>\n",
       "      <td>472</td>\n",
       "      <td>10</td>\n",
       "      <td>unsat</td>\n",
       "      <td>actively_looking_into_it</td>\n",
       "      <td>0</td>\n",
       "    </tr>\n",
       "    <tr>\n",
       "      <th>53</th>\n",
       "      <td>1</td>\n",
       "      <td>125375</td>\n",
       "      <td>216</td>\n",
       "      <td>37</td>\n",
       "      <td>793744.0</td>\n",
       "      <td>866</td>\n",
       "      <td>6</td>\n",
       "      <td>very_unsat</td>\n",
       "      <td>actively_looking_into_it</td>\n",
       "      <td>1</td>\n",
       "    </tr>\n",
       "  </tbody>\n",
       "</table>\n",
       "</div>"
      ],
      "text/plain": [
       "    COLLEGE  INCOME  OVERAGE  LEFTOVER     HOUSE  HANDSET_PRICE  \\\n",
       "6         1   99548      235         0  238561.0            294   \n",
       "8         1  133496      163        11  166179.0            864   \n",
       "14        1   39476        0        46  975301.0            132   \n",
       "15        0   85246        0        12  864913.0            207   \n",
       "17        1   92778        0         0  564412.0            286   \n",
       "28        0   69417       52        88  686029.0            331   \n",
       "31        0   57157       41        74  248089.0            656   \n",
       "42        0   89152      230         0  605293.0            282   \n",
       "51        1  108123        0         0  987559.0            472   \n",
       "53        1  125375      216        37  793744.0            866   \n",
       "\n",
       "    AVERAGE_CALL_DURATION REPORTED_SATISFACTION CONSIDERING_CHANGE_OF_PLAN  \\\n",
       "6                       6            very_unsat   actively_looking_into_it   \n",
       "8                       5                   NaN   actively_looking_into_it   \n",
       "14                      2              very_sat   actively_looking_into_it   \n",
       "15                      5            very_unsat   actively_looking_into_it   \n",
       "17                      9            very_unsat   actively_looking_into_it   \n",
       "28                      2            very_unsat   actively_looking_into_it   \n",
       "31                      2            very_unsat   actively_looking_into_it   \n",
       "42                     13            very_unsat   actively_looking_into_it   \n",
       "51                     10                 unsat   actively_looking_into_it   \n",
       "53                      6            very_unsat   actively_looking_into_it   \n",
       "\n",
       "    CHURN  \n",
       "6       1  \n",
       "8       1  \n",
       "14      0  \n",
       "15      0  \n",
       "17      0  \n",
       "28      1  \n",
       "31      0  \n",
       "42      1  \n",
       "51      0  \n",
       "53      1  "
      ]
     },
     "execution_count": 5,
     "metadata": {},
     "output_type": "execute_result"
    }
   ],
   "source": [
    "temp = mobile.loc[mobile['CONSIDERING_CHANGE_OF_PLAN'] == 'actively_looking_into_it']\n",
    "\n",
    "temp.head(10)"
   ]
  },
  {
   "cell_type": "markdown",
   "metadata": {},
   "source": [
    "* 이번엔 반대로 적극적으로 바꾸고 싶다는 설문의 데이터를 찾아보았다."
   ]
  },
  {
   "cell_type": "markdown",
   "metadata": {},
   "source": [
    "* 전에 보았던 never_thought의 설문의 결과와 같이 초과 사용시간이 길었던 사용자들만 통신사를 이탈하였다"
   ]
  },
  {
   "cell_type": "markdown",
   "metadata": {},
   "source": [
    "### <파악한 내용>"
   ]
  },
  {
   "cell_type": "markdown",
   "metadata": {},
   "source": [
    "* 설문에서 '절대 안바꾼다' 와 '적극적으로 찾고있다'를 비교해본 결과 사용자들은 월 초과 사용시간이 높으면 통신사를 이탈 하는 것으로 판단 됨"
   ]
  },
  {
   "cell_type": "markdown",
   "metadata": {},
   "source": [
    "### 3) AVERAGE_CALL_DURATION 범주로 나누어 분석"
   ]
  },
  {
   "cell_type": "code",
   "execution_count": 90,
   "metadata": {},
   "outputs": [
    {
     "data": {
      "text/html": [
       "<div>\n",
       "<style scoped>\n",
       "    .dataframe tbody tr th:only-of-type {\n",
       "        vertical-align: middle;\n",
       "    }\n",
       "\n",
       "    .dataframe tbody tr th {\n",
       "        vertical-align: top;\n",
       "    }\n",
       "\n",
       "    .dataframe thead th {\n",
       "        text-align: right;\n",
       "    }\n",
       "</style>\n",
       "<table border=\"1\" class=\"dataframe\">\n",
       "  <thead>\n",
       "    <tr style=\"text-align: right;\">\n",
       "      <th></th>\n",
       "      <th>COLLEGE</th>\n",
       "      <th>INCOME</th>\n",
       "      <th>OVERAGE</th>\n",
       "      <th>LEFTOVER</th>\n",
       "      <th>HOUSE</th>\n",
       "      <th>HANDSET_PRICE</th>\n",
       "      <th>AVERAGE_CALL_DURATION</th>\n",
       "      <th>REPORTED_SATISFACTION</th>\n",
       "      <th>CONSIDERING_CHANGE_OF_PLAN</th>\n",
       "      <th>CHURN</th>\n",
       "      <th>Income_Group</th>\n",
       "      <th>Call_Group</th>\n",
       "    </tr>\n",
       "  </thead>\n",
       "  <tbody>\n",
       "    <tr>\n",
       "      <th>0</th>\n",
       "      <td>1</td>\n",
       "      <td>47711</td>\n",
       "      <td>183</td>\n",
       "      <td>17</td>\n",
       "      <td>730589.0</td>\n",
       "      <td>192</td>\n",
       "      <td>5</td>\n",
       "      <td>unsat</td>\n",
       "      <td>considering</td>\n",
       "      <td>0</td>\n",
       "      <td>LOW</td>\n",
       "      <td>MIDDLE</td>\n",
       "    </tr>\n",
       "    <tr>\n",
       "      <th>1</th>\n",
       "      <td>0</td>\n",
       "      <td>74132</td>\n",
       "      <td>191</td>\n",
       "      <td>43</td>\n",
       "      <td>535092.0</td>\n",
       "      <td>349</td>\n",
       "      <td>2</td>\n",
       "      <td>unsat</td>\n",
       "      <td>no</td>\n",
       "      <td>1</td>\n",
       "      <td>LOW</td>\n",
       "      <td>LOW</td>\n",
       "    </tr>\n",
       "    <tr>\n",
       "      <th>2</th>\n",
       "      <td>1</td>\n",
       "      <td>150419</td>\n",
       "      <td>0</td>\n",
       "      <td>14</td>\n",
       "      <td>204004.0</td>\n",
       "      <td>682</td>\n",
       "      <td>6</td>\n",
       "      <td>unsat</td>\n",
       "      <td>considering</td>\n",
       "      <td>0</td>\n",
       "      <td>HIGH</td>\n",
       "      <td>MIDDLE</td>\n",
       "    </tr>\n",
       "    <tr>\n",
       "      <th>3</th>\n",
       "      <td>0</td>\n",
       "      <td>159567</td>\n",
       "      <td>0</td>\n",
       "      <td>58</td>\n",
       "      <td>281969.0</td>\n",
       "      <td>634</td>\n",
       "      <td>1</td>\n",
       "      <td>very_unsat</td>\n",
       "      <td>never_thought</td>\n",
       "      <td>0</td>\n",
       "      <td>HIGH</td>\n",
       "      <td>LOW</td>\n",
       "    </tr>\n",
       "    <tr>\n",
       "      <th>4</th>\n",
       "      <td>1</td>\n",
       "      <td>23392</td>\n",
       "      <td>0</td>\n",
       "      <td>0</td>\n",
       "      <td>216707.0</td>\n",
       "      <td>233</td>\n",
       "      <td>15</td>\n",
       "      <td>unsat</td>\n",
       "      <td>no</td>\n",
       "      <td>1</td>\n",
       "      <td>LOW</td>\n",
       "      <td>HIGH</td>\n",
       "    </tr>\n",
       "  </tbody>\n",
       "</table>\n",
       "</div>"
      ],
      "text/plain": [
       "   COLLEGE  INCOME  OVERAGE  LEFTOVER     HOUSE  HANDSET_PRICE  \\\n",
       "0        1   47711      183        17  730589.0            192   \n",
       "1        0   74132      191        43  535092.0            349   \n",
       "2        1  150419        0        14  204004.0            682   \n",
       "3        0  159567        0        58  281969.0            634   \n",
       "4        1   23392        0         0  216707.0            233   \n",
       "\n",
       "   AVERAGE_CALL_DURATION REPORTED_SATISFACTION CONSIDERING_CHANGE_OF_PLAN  \\\n",
       "0                      5                 unsat                considering   \n",
       "1                      2                 unsat                         no   \n",
       "2                      6                 unsat                considering   \n",
       "3                      1            very_unsat              never_thought   \n",
       "4                     15                 unsat                         no   \n",
       "\n",
       "   CHURN Income_Group Call_Group  \n",
       "0      0          LOW     MIDDLE  \n",
       "1      1          LOW        LOW  \n",
       "2      0         HIGH     MIDDLE  \n",
       "3      0         HIGH        LOW  \n",
       "4      1          LOW       HIGH  "
      ]
     },
     "execution_count": 90,
     "metadata": {},
     "output_type": "execute_result"
    }
   ],
   "source": [
    "bins = [0, 2.5, 7.5 , np.inf]\n",
    "labels = ['LOW','MIDDLE', 'HIGH' ]\n",
    "mobile['Call_Group'] = pd.cut(mobile['AVERAGE_CALL_DURATION'], bins = bins , labels = labels\n",
    "                               , right = False)\n",
    "mobile.head()"
   ]
  },
  {
   "cell_type": "code",
   "execution_count": 91,
   "metadata": {},
   "outputs": [
    {
     "data": {
      "image/png": "[encoded data removed]",
      "text/plain": [
       "<Figure size 432x288 with 1 Axes>"
      ]
     },
     "metadata": {
      "needs_background": "light"
     },
     "output_type": "display_data"
    },
    {
     "name": "stdout",
     "output_type": "stream",
     "text": [
      "카이제곱통계량 232.43495129257877\n",
      "p-value 3.3681515635006483e-51\n"
     ]
    }
   ],
   "source": [
    "temp = pd.crosstab(mobile['Call_Group'], mobile[target], normalize = 'index')\n",
    "temp.plot.bar(stacked=True)\n",
    "plt.axhline(1-mobile[target].mean(), color = 'r')\n",
    "plt.show()\n",
    "\n",
    "table = pd.crosstab(mobile[target], mobile['Call_Group'])\n",
    "result = spst.chi2_contingency(table)\n",
    "print('카이제곱통계량', result[0])\n",
    "print('p-value', result[1])"
   ]
  },
  {
   "cell_type": "code",
   "execution_count": 92,
   "metadata": {
    "scrolled": true
   },
   "outputs": [
    {
     "data": {
      "image/png": "[encoded data removed]",
      "text/plain": [
       "<Figure size 432x288 with 3 Axes>"
      ]
     },
     "metadata": {
      "needs_background": "light"
     },
     "output_type": "display_data"
    }
   ],
   "source": [
    "mosaic(mobile, [ 'Call_Group',target])\n",
    "plt.axhline(1- mobile[target].mean(), color = 'r')\n",
    "plt.show()"
   ]
  },
  {
   "cell_type": "markdown",
   "metadata": {},
   "source": [
    "### <파악한 내용>"
   ]
  },
  {
   "cell_type": "markdown",
   "metadata": {},
   "source": [
    "* 숫자로 된것을 범주로 바꾸어 카이제곱 통계량을 살펴본 결과 자유도가 2인데 비해 232이라는 높은 수치를 나타내었고, pvalue도 0.05보다 현저히 작은 것을 보아 중간 관계라고 볼 수 있음\n",
    "* 또한 평균통화시간이 많거나 적으면 이탈률이 높은것으로 보아 다른 통신사의 적절한 요금제를 찾으려 이탈하는 것으로 보임!!"
   ]
  },
  {
   "cell_type": "markdown",
   "metadata": {},
   "source": [
    "### 4) 2개의 설문조사의 조합으로 이탈률 알아보기"
   ]
  },
  {
   "cell_type": "code",
   "execution_count": 101,
   "metadata": {},
   "outputs": [
    {
     "data": {
      "text/html": [
       "<div>\n",
       "<style scoped>\n",
       "    .dataframe tbody tr th:only-of-type {\n",
       "        vertical-align: middle;\n",
       "    }\n",
       "\n",
       "    .dataframe tbody tr th {\n",
       "        vertical-align: top;\n",
       "    }\n",
       "\n",
       "    .dataframe thead th {\n",
       "        text-align: right;\n",
       "    }\n",
       "</style>\n",
       "<table border=\"1\" class=\"dataframe\">\n",
       "  <thead>\n",
       "    <tr style=\"text-align: right;\">\n",
       "      <th></th>\n",
       "      <th>REPORTED_SATISFACTION</th>\n",
       "      <th>CHURN</th>\n",
       "    </tr>\n",
       "  </thead>\n",
       "  <tbody>\n",
       "    <tr>\n",
       "      <th>2</th>\n",
       "      <td>unsat</td>\n",
       "      <td>0.500836</td>\n",
       "    </tr>\n",
       "    <tr>\n",
       "      <th>4</th>\n",
       "      <td>very_unsat</td>\n",
       "      <td>0.499010</td>\n",
       "    </tr>\n",
       "    <tr>\n",
       "      <th>3</th>\n",
       "      <td>very_sat</td>\n",
       "      <td>0.488382</td>\n",
       "    </tr>\n",
       "    <tr>\n",
       "      <th>0</th>\n",
       "      <td>avg</td>\n",
       "      <td>0.472868</td>\n",
       "    </tr>\n",
       "    <tr>\n",
       "      <th>1</th>\n",
       "      <td>sat</td>\n",
       "      <td>0.472103</td>\n",
       "    </tr>\n",
       "  </tbody>\n",
       "</table>\n",
       "</div>"
      ],
      "text/plain": [
       "  REPORTED_SATISFACTION     CHURN\n",
       "2                 unsat  0.500836\n",
       "4            very_unsat  0.499010\n",
       "3              very_sat  0.488382\n",
       "0                   avg  0.472868\n",
       "1                   sat  0.472103"
      ]
     },
     "execution_count": 101,
     "metadata": {},
     "output_type": "execute_result"
    }
   ],
   "source": [
    "mobile_question1 = mobile.groupby(['REPORTED_SATISFACTION'], as_index = False)[target].mean()\n",
    "mobile_question1.sort_values(by = 'CHURN', ascending = False)"
   ]
  },
  {
   "cell_type": "code",
   "execution_count": 102,
   "metadata": {},
   "outputs": [
    {
     "data": {
      "text/html": [
       "<div>\n",
       "<style scoped>\n",
       "    .dataframe tbody tr th:only-of-type {\n",
       "        vertical-align: middle;\n",
       "    }\n",
       "\n",
       "    .dataframe tbody tr th {\n",
       "        vertical-align: top;\n",
       "    }\n",
       "\n",
       "    .dataframe thead th {\n",
       "        text-align: right;\n",
       "    }\n",
       "</style>\n",
       "<table border=\"1\" class=\"dataframe\">\n",
       "  <thead>\n",
       "    <tr style=\"text-align: right;\">\n",
       "      <th></th>\n",
       "      <th>CONSIDERING_CHANGE_OF_PLAN</th>\n",
       "      <th>CHURN</th>\n",
       "    </tr>\n",
       "  </thead>\n",
       "  <tbody>\n",
       "    <tr>\n",
       "      <th>4</th>\n",
       "      <td>perhaps</td>\n",
       "      <td>0.524008</td>\n",
       "    </tr>\n",
       "    <tr>\n",
       "      <th>3</th>\n",
       "      <td>no</td>\n",
       "      <td>0.499726</td>\n",
       "    </tr>\n",
       "    <tr>\n",
       "      <th>1</th>\n",
       "      <td>considering</td>\n",
       "      <td>0.489147</td>\n",
       "    </tr>\n",
       "    <tr>\n",
       "      <th>0</th>\n",
       "      <td>actively_looking_into_it</td>\n",
       "      <td>0.488435</td>\n",
       "    </tr>\n",
       "    <tr>\n",
       "      <th>2</th>\n",
       "      <td>never_thought</td>\n",
       "      <td>0.486696</td>\n",
       "    </tr>\n",
       "  </tbody>\n",
       "</table>\n",
       "</div>"
      ],
      "text/plain": [
       "  CONSIDERING_CHANGE_OF_PLAN     CHURN\n",
       "4                    perhaps  0.524008\n",
       "3                         no  0.499726\n",
       "1                considering  0.489147\n",
       "0   actively_looking_into_it  0.488435\n",
       "2              never_thought  0.486696"
      ]
     },
     "execution_count": 102,
     "metadata": {},
     "output_type": "execute_result"
    }
   ],
   "source": [
    "mobile_question2 = mobile.groupby(['CONSIDERING_CHANGE_OF_PLAN'], as_index = False)[target].mean()\n",
    "mobile_question2.sort_values(by = 'CHURN', ascending = False)"
   ]
  },
  {
   "cell_type": "code",
   "execution_count": 103,
   "metadata": {
    "scrolled": false
   },
   "outputs": [
    {
     "data": {
      "text/html": [
       "<div>\n",
       "<style scoped>\n",
       "    .dataframe tbody tr th:only-of-type {\n",
       "        vertical-align: middle;\n",
       "    }\n",
       "\n",
       "    .dataframe tbody tr th {\n",
       "        vertical-align: top;\n",
       "    }\n",
       "\n",
       "    .dataframe thead th {\n",
       "        text-align: right;\n",
       "    }\n",
       "</style>\n",
       "<table border=\"1\" class=\"dataframe\">\n",
       "  <thead>\n",
       "    <tr style=\"text-align: right;\">\n",
       "      <th></th>\n",
       "      <th>CONSIDERING_CHANGE_OF_PLAN</th>\n",
       "      <th>REPORTED_SATISFACTION</th>\n",
       "      <th>CHURN</th>\n",
       "    </tr>\n",
       "  </thead>\n",
       "  <tbody>\n",
       "    <tr>\n",
       "      <th>21</th>\n",
       "      <td>perhaps</td>\n",
       "      <td>sat</td>\n",
       "      <td>0.596154</td>\n",
       "    </tr>\n",
       "    <tr>\n",
       "      <th>20</th>\n",
       "      <td>perhaps</td>\n",
       "      <td>avg</td>\n",
       "      <td>0.590361</td>\n",
       "    </tr>\n",
       "    <tr>\n",
       "      <th>22</th>\n",
       "      <td>perhaps</td>\n",
       "      <td>unsat</td>\n",
       "      <td>0.542857</td>\n",
       "    </tr>\n",
       "    <tr>\n",
       "      <th>24</th>\n",
       "      <td>perhaps</td>\n",
       "      <td>very_unsat</td>\n",
       "      <td>0.526961</td>\n",
       "    </tr>\n",
       "    <tr>\n",
       "      <th>17</th>\n",
       "      <td>no</td>\n",
       "      <td>unsat</td>\n",
       "      <td>0.523240</td>\n",
       "    </tr>\n",
       "    <tr>\n",
       "      <th>15</th>\n",
       "      <td>no</td>\n",
       "      <td>avg</td>\n",
       "      <td>0.517426</td>\n",
       "    </tr>\n",
       "    <tr>\n",
       "      <th>12</th>\n",
       "      <td>never_thought</td>\n",
       "      <td>unsat</td>\n",
       "      <td>0.508571</td>\n",
       "    </tr>\n",
       "    <tr>\n",
       "      <th>3</th>\n",
       "      <td>actively_looking_into_it</td>\n",
       "      <td>very_sat</td>\n",
       "      <td>0.507194</td>\n",
       "    </tr>\n",
       "    <tr>\n",
       "      <th>14</th>\n",
       "      <td>never_thought</td>\n",
       "      <td>very_unsat</td>\n",
       "      <td>0.505764</td>\n",
       "    </tr>\n",
       "    <tr>\n",
       "      <th>9</th>\n",
       "      <td>considering</td>\n",
       "      <td>very_unsat</td>\n",
       "      <td>0.502807</td>\n",
       "    </tr>\n",
       "    <tr>\n",
       "      <th>7</th>\n",
       "      <td>considering</td>\n",
       "      <td>unsat</td>\n",
       "      <td>0.493581</td>\n",
       "    </tr>\n",
       "    <tr>\n",
       "      <th>18</th>\n",
       "      <td>no</td>\n",
       "      <td>very_sat</td>\n",
       "      <td>0.492424</td>\n",
       "    </tr>\n",
       "    <tr>\n",
       "      <th>4</th>\n",
       "      <td>actively_looking_into_it</td>\n",
       "      <td>very_unsat</td>\n",
       "      <td>0.491299</td>\n",
       "    </tr>\n",
       "    <tr>\n",
       "      <th>19</th>\n",
       "      <td>no</td>\n",
       "      <td>very_unsat</td>\n",
       "      <td>0.489255</td>\n",
       "    </tr>\n",
       "    <tr>\n",
       "      <th>2</th>\n",
       "      <td>actively_looking_into_it</td>\n",
       "      <td>unsat</td>\n",
       "      <td>0.482418</td>\n",
       "    </tr>\n",
       "    <tr>\n",
       "      <th>8</th>\n",
       "      <td>considering</td>\n",
       "      <td>very_sat</td>\n",
       "      <td>0.481828</td>\n",
       "    </tr>\n",
       "    <tr>\n",
       "      <th>16</th>\n",
       "      <td>no</td>\n",
       "      <td>sat</td>\n",
       "      <td>0.476684</td>\n",
       "    </tr>\n",
       "    <tr>\n",
       "      <th>11</th>\n",
       "      <td>never_thought</td>\n",
       "      <td>sat</td>\n",
       "      <td>0.471910</td>\n",
       "    </tr>\n",
       "    <tr>\n",
       "      <th>1</th>\n",
       "      <td>actively_looking_into_it</td>\n",
       "      <td>sat</td>\n",
       "      <td>0.471861</td>\n",
       "    </tr>\n",
       "    <tr>\n",
       "      <th>13</th>\n",
       "      <td>never_thought</td>\n",
       "      <td>very_sat</td>\n",
       "      <td>0.471459</td>\n",
       "    </tr>\n",
       "    <tr>\n",
       "      <th>23</th>\n",
       "      <td>perhaps</td>\n",
       "      <td>very_sat</td>\n",
       "      <td>0.468354</td>\n",
       "    </tr>\n",
       "    <tr>\n",
       "      <th>5</th>\n",
       "      <td>considering</td>\n",
       "      <td>avg</td>\n",
       "      <td>0.461426</td>\n",
       "    </tr>\n",
       "    <tr>\n",
       "      <th>0</th>\n",
       "      <td>actively_looking_into_it</td>\n",
       "      <td>avg</td>\n",
       "      <td>0.454158</td>\n",
       "    </tr>\n",
       "    <tr>\n",
       "      <th>6</th>\n",
       "      <td>considering</td>\n",
       "      <td>sat</td>\n",
       "      <td>0.452316</td>\n",
       "    </tr>\n",
       "    <tr>\n",
       "      <th>10</th>\n",
       "      <td>never_thought</td>\n",
       "      <td>avg</td>\n",
       "      <td>0.422680</td>\n",
       "    </tr>\n",
       "  </tbody>\n",
       "</table>\n",
       "</div>"
      ],
      "text/plain": [
       "   CONSIDERING_CHANGE_OF_PLAN REPORTED_SATISFACTION     CHURN\n",
       "21                    perhaps                   sat  0.596154\n",
       "20                    perhaps                   avg  0.590361\n",
       "22                    perhaps                 unsat  0.542857\n",
       "24                    perhaps            very_unsat  0.526961\n",
       "17                         no                 unsat  0.523240\n",
       "15                         no                   avg  0.517426\n",
       "12              never_thought                 unsat  0.508571\n",
       "3    actively_looking_into_it              very_sat  0.507194\n",
       "14              never_thought            very_unsat  0.505764\n",
       "9                 considering            very_unsat  0.502807\n",
       "7                 considering                 unsat  0.493581\n",
       "18                         no              very_sat  0.492424\n",
       "4    actively_looking_into_it            very_unsat  0.491299\n",
       "19                         no            very_unsat  0.489255\n",
       "2    actively_looking_into_it                 unsat  0.482418\n",
       "8                 considering              very_sat  0.481828\n",
       "16                         no                   sat  0.476684\n",
       "11              never_thought                   sat  0.471910\n",
       "1    actively_looking_into_it                   sat  0.471861\n",
       "13              never_thought              very_sat  0.471459\n",
       "23                    perhaps              very_sat  0.468354\n",
       "5                 considering                   avg  0.461426\n",
       "0    actively_looking_into_it                   avg  0.454158\n",
       "6                 considering                   sat  0.452316\n",
       "10              never_thought                   avg  0.422680"
      ]
     },
     "execution_count": 103,
     "metadata": {},
     "output_type": "execute_result"
    }
   ],
   "source": [
    "mobile_question_total = mobile.groupby(['CONSIDERING_CHANGE_OF_PLAN','REPORTED_SATISFACTION'],\n",
    "                                       as_index = False)[target].mean()\n",
    "mobile_question_total.sort_values(by = 'CHURN', ascending = False)"
   ]
  },
  {
   "cell_type": "code",
   "execution_count": 32,
   "metadata": {},
   "outputs": [
    {
     "data": {
      "text/html": [
       "<div>\n",
       "<style scoped>\n",
       "    .dataframe tbody tr th:only-of-type {\n",
       "        vertical-align: middle;\n",
       "    }\n",
       "\n",
       "    .dataframe tbody tr th {\n",
       "        vertical-align: top;\n",
       "    }\n",
       "\n",
       "    .dataframe thead th {\n",
       "        text-align: right;\n",
       "    }\n",
       "</style>\n",
       "<table border=\"1\" class=\"dataframe\">\n",
       "  <thead>\n",
       "    <tr style=\"text-align: right;\">\n",
       "      <th></th>\n",
       "      <th>COLLEGE</th>\n",
       "      <th>INCOME</th>\n",
       "      <th>OVERAGE</th>\n",
       "      <th>LEFTOVER</th>\n",
       "      <th>HOUSE</th>\n",
       "      <th>HANDSET_PRICE</th>\n",
       "      <th>AVERAGE_CALL_DURATION</th>\n",
       "      <th>REPORTED_SATISFACTION</th>\n",
       "      <th>CONSIDERING_CHANGE_OF_PLAN</th>\n",
       "      <th>CHURN</th>\n",
       "    </tr>\n",
       "  </thead>\n",
       "  <tbody>\n",
       "    <tr>\n",
       "      <th>376</th>\n",
       "      <td>1</td>\n",
       "      <td>90767</td>\n",
       "      <td>238</td>\n",
       "      <td>7</td>\n",
       "      <td>172224.0</td>\n",
       "      <td>318</td>\n",
       "      <td>4</td>\n",
       "      <td>sat</td>\n",
       "      <td>perhaps</td>\n",
       "      <td>1</td>\n",
       "    </tr>\n",
       "    <tr>\n",
       "      <th>480</th>\n",
       "      <td>1</td>\n",
       "      <td>108224</td>\n",
       "      <td>0</td>\n",
       "      <td>46</td>\n",
       "      <td>498937.0</td>\n",
       "      <td>780</td>\n",
       "      <td>1</td>\n",
       "      <td>sat</td>\n",
       "      <td>perhaps</td>\n",
       "      <td>1</td>\n",
       "    </tr>\n",
       "    <tr>\n",
       "      <th>689</th>\n",
       "      <td>1</td>\n",
       "      <td>95371</td>\n",
       "      <td>0</td>\n",
       "      <td>78</td>\n",
       "      <td>309385.0</td>\n",
       "      <td>370</td>\n",
       "      <td>9</td>\n",
       "      <td>sat</td>\n",
       "      <td>perhaps</td>\n",
       "      <td>0</td>\n",
       "    </tr>\n",
       "    <tr>\n",
       "      <th>690</th>\n",
       "      <td>0</td>\n",
       "      <td>54195</td>\n",
       "      <td>62</td>\n",
       "      <td>0</td>\n",
       "      <td>265956.0</td>\n",
       "      <td>379</td>\n",
       "      <td>14</td>\n",
       "      <td>sat</td>\n",
       "      <td>perhaps</td>\n",
       "      <td>1</td>\n",
       "    </tr>\n",
       "    <tr>\n",
       "      <th>820</th>\n",
       "      <td>0</td>\n",
       "      <td>60000</td>\n",
       "      <td>0</td>\n",
       "      <td>73</td>\n",
       "      <td>740013.0</td>\n",
       "      <td>388</td>\n",
       "      <td>1</td>\n",
       "      <td>sat</td>\n",
       "      <td>perhaps</td>\n",
       "      <td>0</td>\n",
       "    </tr>\n",
       "  </tbody>\n",
       "</table>\n",
       "</div>"
      ],
      "text/plain": [
       "     COLLEGE  INCOME  OVERAGE  LEFTOVER     HOUSE  HANDSET_PRICE  \\\n",
       "376        1   90767      238         7  172224.0            318   \n",
       "480        1  108224        0        46  498937.0            780   \n",
       "689        1   95371        0        78  309385.0            370   \n",
       "690        0   54195       62         0  265956.0            379   \n",
       "820        0   60000        0        73  740013.0            388   \n",
       "\n",
       "     AVERAGE_CALL_DURATION REPORTED_SATISFACTION CONSIDERING_CHANGE_OF_PLAN  \\\n",
       "376                      4                   sat                    perhaps   \n",
       "480                      1                   sat                    perhaps   \n",
       "689                      9                   sat                    perhaps   \n",
       "690                     14                   sat                    perhaps   \n",
       "820                      1                   sat                    perhaps   \n",
       "\n",
       "     CHURN  \n",
       "376      1  \n",
       "480      1  \n",
       "689      0  \n",
       "690      1  \n",
       "820      0  "
      ]
     },
     "execution_count": 32,
     "metadata": {},
     "output_type": "execute_result"
    }
   ],
   "source": [
    "temp = mobile.loc[mobile['REPORTED_SATISFACTION'] == 'sat' ]\n",
    "temp2 = temp.loc[temp['CONSIDERING_CHANGE_OF_PLAN'] == 'perhaps']\n",
    "temp2.head(5)"
   ]
  },
  {
   "cell_type": "code",
   "execution_count": 33,
   "metadata": {},
   "outputs": [
    {
     "data": {
      "text/html": [
       "<div>\n",
       "<style scoped>\n",
       "    .dataframe tbody tr th:only-of-type {\n",
       "        vertical-align: middle;\n",
       "    }\n",
       "\n",
       "    .dataframe tbody tr th {\n",
       "        vertical-align: top;\n",
       "    }\n",
       "\n",
       "    .dataframe thead th {\n",
       "        text-align: right;\n",
       "    }\n",
       "</style>\n",
       "<table border=\"1\" class=\"dataframe\">\n",
       "  <thead>\n",
       "    <tr style=\"text-align: right;\">\n",
       "      <th></th>\n",
       "      <th>COLLEGE</th>\n",
       "      <th>INCOME</th>\n",
       "      <th>OVERAGE</th>\n",
       "      <th>LEFTOVER</th>\n",
       "      <th>HOUSE</th>\n",
       "      <th>HANDSET_PRICE</th>\n",
       "      <th>AVERAGE_CALL_DURATION</th>\n",
       "      <th>REPORTED_SATISFACTION</th>\n",
       "      <th>CONSIDERING_CHANGE_OF_PLAN</th>\n",
       "      <th>CHURN</th>\n",
       "    </tr>\n",
       "  </thead>\n",
       "  <tbody>\n",
       "    <tr>\n",
       "      <th>270</th>\n",
       "      <td>0</td>\n",
       "      <td>57924</td>\n",
       "      <td>0</td>\n",
       "      <td>0</td>\n",
       "      <td>767493.0</td>\n",
       "      <td>396</td>\n",
       "      <td>12</td>\n",
       "      <td>avg</td>\n",
       "      <td>never_thought</td>\n",
       "      <td>0</td>\n",
       "    </tr>\n",
       "    <tr>\n",
       "      <th>303</th>\n",
       "      <td>0</td>\n",
       "      <td>23392</td>\n",
       "      <td>202</td>\n",
       "      <td>6</td>\n",
       "      <td>223073.0</td>\n",
       "      <td>203</td>\n",
       "      <td>5</td>\n",
       "      <td>avg</td>\n",
       "      <td>never_thought</td>\n",
       "      <td>1</td>\n",
       "    </tr>\n",
       "    <tr>\n",
       "      <th>335</th>\n",
       "      <td>0</td>\n",
       "      <td>87933</td>\n",
       "      <td>0</td>\n",
       "      <td>6</td>\n",
       "      <td>887360.0</td>\n",
       "      <td>363</td>\n",
       "      <td>6</td>\n",
       "      <td>avg</td>\n",
       "      <td>never_thought</td>\n",
       "      <td>0</td>\n",
       "    </tr>\n",
       "    <tr>\n",
       "      <th>421</th>\n",
       "      <td>0</td>\n",
       "      <td>48023</td>\n",
       "      <td>0</td>\n",
       "      <td>0</td>\n",
       "      <td>235924.0</td>\n",
       "      <td>137</td>\n",
       "      <td>14</td>\n",
       "      <td>avg</td>\n",
       "      <td>never_thought</td>\n",
       "      <td>0</td>\n",
       "    </tr>\n",
       "    <tr>\n",
       "      <th>660</th>\n",
       "      <td>0</td>\n",
       "      <td>96398</td>\n",
       "      <td>54</td>\n",
       "      <td>7</td>\n",
       "      <td>960127.0</td>\n",
       "      <td>658</td>\n",
       "      <td>5</td>\n",
       "      <td>avg</td>\n",
       "      <td>never_thought</td>\n",
       "      <td>0</td>\n",
       "    </tr>\n",
       "  </tbody>\n",
       "</table>\n",
       "</div>"
      ],
      "text/plain": [
       "     COLLEGE  INCOME  OVERAGE  LEFTOVER     HOUSE  HANDSET_PRICE  \\\n",
       "270        0   57924        0         0  767493.0            396   \n",
       "303        0   23392      202         6  223073.0            203   \n",
       "335        0   87933        0         6  887360.0            363   \n",
       "421        0   48023        0         0  235924.0            137   \n",
       "660        0   96398       54         7  960127.0            658   \n",
       "\n",
       "     AVERAGE_CALL_DURATION REPORTED_SATISFACTION CONSIDERING_CHANGE_OF_PLAN  \\\n",
       "270                     12                   avg              never_thought   \n",
       "303                      5                   avg              never_thought   \n",
       "335                      6                   avg              never_thought   \n",
       "421                     14                   avg              never_thought   \n",
       "660                      5                   avg              never_thought   \n",
       "\n",
       "     CHURN  \n",
       "270      0  \n",
       "303      1  \n",
       "335      0  \n",
       "421      0  \n",
       "660      0  "
      ]
     },
     "execution_count": 33,
     "metadata": {},
     "output_type": "execute_result"
    }
   ],
   "source": [
    "temp = mobile.loc[mobile['REPORTED_SATISFACTION'] == 'avg' ]\n",
    "temp2 = temp.loc[temp['CONSIDERING_CHANGE_OF_PLAN'] == 'never_thought']\n",
    "temp2.head(5)"
   ]
  },
  {
   "cell_type": "markdown",
   "metadata": {},
   "source": [
    "* 이탈률이 가장 높은 설문들과 가장 낮은 데이터를 추출함\n",
    "* 이 또한 OVERAGE의 영향이 가장 컸으며 부가적으로 핸드폰 가격 및 집 가격이 영향을 미치는 것 같음."
   ]
  },
  {
   "cell_type": "markdown",
   "metadata": {},
   "source": [
    "### <파악한 내용>"
   ]
  },
  {
   "cell_type": "markdown",
   "metadata": {},
   "source": [
    "* 위에서 관계를 살펴본 후 각 설문이 관계가 없다는 것이 이상하여 이들을 다시 한번 살펴보니 각 설문의 목적과는 다르게 이탈률이 나타나고 있음\n",
    "* 두 설문 모두 관계가 없지만 만족도 조사보다는 변경 계획 설문이 조금 더 관계가 강한 것으로 판단됨\n",
    "* 두 설문을 조합해본 결과 \"perhaps\"와 \"sat\"으로 설문을 작성한 사용자들이 제일 이탈률이 높음"
   ]
  },
  {
   "cell_type": "markdown",
   "metadata": {},
   "source": [
    "### 5) INCOME과 HOUSE의 연관관계"
   ]
  },
  {
   "cell_type": "code",
   "execution_count": 29,
   "metadata": {},
   "outputs": [
    {
     "data": {
      "image/png": "[encoded data removed]",
      "text/plain": [
       "<Figure size 432x288 with 1 Axes>"
      ]
     },
     "metadata": {
      "needs_background": "light"
     },
     "output_type": "display_data"
    }
   ],
   "source": [
    "plt.scatter('HOUSE', 'HANDSET_PRICE', data = mobile)\n",
    "plt.show()"
   ]
  },
  {
   "cell_type": "code",
   "execution_count": 27,
   "metadata": {},
   "outputs": [
    {
     "data": {
      "image/png": "[encoded data removed]",
      "text/plain": [
       "<Figure size 432x432 with 3 Axes>"
      ]
     },
     "metadata": {
      "needs_background": "light"
     },
     "output_type": "display_data"
    }
   ],
   "source": [
    "sns.jointplot(x='OVERAGE', y='HOUSE', data = mobile)\n",
    "plt.show()"
   ]
  },
  {
   "cell_type": "code",
   "execution_count": 30,
   "metadata": {},
   "outputs": [
    {
     "data": {
      "text/plain": [
       "(-0.0071220610381151255, 0.34224118078466004)"
      ]
     },
     "execution_count": 30,
     "metadata": {},
     "output_type": "execute_result"
    }
   ],
   "source": [
    "temp = mobile.loc[mobile['HANDSET_PRICE'].notnull() & mobile['HOUSE'].notnull()]\n",
    "spst.pearsonr(temp['HOUSE'], temp['HANDSET_PRICE'])"
   ]
  },
  {
   "cell_type": "code",
   "execution_count": null,
   "metadata": {},
   "outputs": [],
   "source": []
  }
 ],
 "metadata": {
  "colab": {
   "collapsed_sections": [
    "bdWZCugILZAz",
    "6ks7Mts5ZOIO",
    "KkyjTXOqLsyK",
    "wv6nX82-ZIG4"
   ],
   "name": "과제2. Mobile 고객 이탈 분석.ipynb",
   "provenance": []
  },
  "kernelspec": {
   "display_name": "Python 3",
   "language": "python",
   "name": "python3"
  },
  "language_info": {
   "codemirror_mode": {
    "name": "ipython",
    "version": 3
   },
   "file_extension": ".py",
   "mimetype": "text/x-python",
   "name": "python",
   "nbconvert_exporter": "python",
   "pygments_lexer": "ipython3",
   "version": "3.8.8"
  }
 },
 "nbformat": 4,
 "nbformat_minor": 1
}
